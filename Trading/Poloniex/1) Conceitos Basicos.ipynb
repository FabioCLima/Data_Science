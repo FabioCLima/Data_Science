{
 "cells": [
  {
   "cell_type": "code",
   "execution_count": 16,
   "metadata": {},
   "outputs": [],
   "source": [
    "import pandas as pd\n",
    "import numpy as np\n",
    "from time import time\n",
    "from poloniex import Poloniex\n",
    "import matplotlib.pyplot as plt"
   ]
  },
  {
   "cell_type": "code",
   "execution_count": 2,
   "metadata": {},
   "outputs": [],
   "source": [
    "#Criando uma instancia de Poloniex\n",
    "polo = Poloniex()"
   ]
  },
  {
   "cell_type": "code",
   "execution_count": 111,
   "metadata": {},
   "outputs": [],
   "source": [
    "api = Poloniex(jsonNums=float)\n",
    "\n",
    "#period=api.DAY, start=time()-api.YEAR*10\n",
    "raw = api.returnChartData('BTC_ETH', period=300, start=time()-api.MONTH*3)\n",
    "df = pd.DataFrame(raw)"
   ]
  },
  {
   "cell_type": "code",
   "execution_count": 112,
   "metadata": {},
   "outputs": [],
   "source": [
    "# Ajustando o formato  data e setando como index\n",
    "df['date'] = pd.to_datetime(df[\"date\"], unit='s')\n",
    "df.set_index('date', inplace=True)"
   ]
  },
  {
   "cell_type": "code",
   "execution_count": 113,
   "metadata": {},
   "outputs": [
    {
     "data": {
      "text/html": [
       "<div>\n",
       "<style scoped>\n",
       "    .dataframe tbody tr th:only-of-type {\n",
       "        vertical-align: middle;\n",
       "    }\n",
       "\n",
       "    .dataframe tbody tr th {\n",
       "        vertical-align: top;\n",
       "    }\n",
       "\n",
       "    .dataframe thead th {\n",
       "        text-align: right;\n",
       "    }\n",
       "</style>\n",
       "<table border=\"1\" class=\"dataframe\">\n",
       "  <thead>\n",
       "    <tr style=\"text-align: right;\">\n",
       "      <th></th>\n",
       "      <th>close</th>\n",
       "      <th>high</th>\n",
       "      <th>low</th>\n",
       "      <th>open</th>\n",
       "      <th>quoteVolume</th>\n",
       "      <th>volume</th>\n",
       "      <th>weightedAverage</th>\n",
       "    </tr>\n",
       "    <tr>\n",
       "      <th>date</th>\n",
       "      <th></th>\n",
       "      <th></th>\n",
       "      <th></th>\n",
       "      <th></th>\n",
       "      <th></th>\n",
       "      <th></th>\n",
       "      <th></th>\n",
       "    </tr>\n",
       "  </thead>\n",
       "  <tbody>\n",
       "    <tr>\n",
       "      <th>2020-04-14 15:34:08</th>\n",
       "      <td>0.023115</td>\n",
       "      <td>0.023115</td>\n",
       "      <td>0.023115</td>\n",
       "      <td>0.023115</td>\n",
       "      <td>0.000000</td>\n",
       "      <td>0.000000</td>\n",
       "      <td>0.023115</td>\n",
       "    </tr>\n",
       "    <tr>\n",
       "      <th>2020-04-14 15:35:00</th>\n",
       "      <td>0.023131</td>\n",
       "      <td>0.023139</td>\n",
       "      <td>0.023120</td>\n",
       "      <td>0.023132</td>\n",
       "      <td>3.359898</td>\n",
       "      <td>0.077682</td>\n",
       "      <td>0.023120</td>\n",
       "    </tr>\n",
       "    <tr>\n",
       "      <th>2020-04-14 15:40:00</th>\n",
       "      <td>0.023134</td>\n",
       "      <td>0.023155</td>\n",
       "      <td>0.023134</td>\n",
       "      <td>0.023139</td>\n",
       "      <td>47.241380</td>\n",
       "      <td>1.093785</td>\n",
       "      <td>0.023153</td>\n",
       "    </tr>\n",
       "    <tr>\n",
       "      <th>2020-04-14 15:45:00</th>\n",
       "      <td>0.023123</td>\n",
       "      <td>0.023142</td>\n",
       "      <td>0.023110</td>\n",
       "      <td>0.023138</td>\n",
       "      <td>35.125133</td>\n",
       "      <td>0.811990</td>\n",
       "      <td>0.023117</td>\n",
       "    </tr>\n",
       "    <tr>\n",
       "      <th>2020-04-14 15:50:00</th>\n",
       "      <td>0.023138</td>\n",
       "      <td>0.023155</td>\n",
       "      <td>0.023123</td>\n",
       "      <td>0.023123</td>\n",
       "      <td>14.556544</td>\n",
       "      <td>0.336881</td>\n",
       "      <td>0.023143</td>\n",
       "    </tr>\n",
       "  </tbody>\n",
       "</table>\n",
       "</div>"
      ],
      "text/plain": [
       "                        close      high       low      open  quoteVolume  \\\n",
       "date                                                                       \n",
       "2020-04-14 15:34:08  0.023115  0.023115  0.023115  0.023115     0.000000   \n",
       "2020-04-14 15:35:00  0.023131  0.023139  0.023120  0.023132     3.359898   \n",
       "2020-04-14 15:40:00  0.023134  0.023155  0.023134  0.023139    47.241380   \n",
       "2020-04-14 15:45:00  0.023123  0.023142  0.023110  0.023138    35.125133   \n",
       "2020-04-14 15:50:00  0.023138  0.023155  0.023123  0.023123    14.556544   \n",
       "\n",
       "                       volume  weightedAverage  \n",
       "date                                            \n",
       "2020-04-14 15:34:08  0.000000         0.023115  \n",
       "2020-04-14 15:35:00  0.077682         0.023120  \n",
       "2020-04-14 15:40:00  1.093785         0.023153  \n",
       "2020-04-14 15:45:00  0.811990         0.023117  \n",
       "2020-04-14 15:50:00  0.336881         0.023143  "
      ]
     },
     "execution_count": 113,
     "metadata": {},
     "output_type": "execute_result"
    }
   ],
   "source": [
    "df.head()"
   ]
  },
  {
   "cell_type": "code",
   "execution_count": 6,
   "metadata": {
    "scrolled": false
   },
   "outputs": [
    {
     "data": {
      "text/plain": [
       "(25921, 7)"
      ]
     },
     "execution_count": 6,
     "metadata": {},
     "output_type": "execute_result"
    }
   ],
   "source": [
    "df.shape"
   ]
  },
  {
   "cell_type": "code",
   "execution_count": 7,
   "metadata": {},
   "outputs": [
    {
     "data": {
      "text/html": [
       "<div>\n",
       "<style scoped>\n",
       "    .dataframe tbody tr th:only-of-type {\n",
       "        vertical-align: middle;\n",
       "    }\n",
       "\n",
       "    .dataframe tbody tr th {\n",
       "        vertical-align: top;\n",
       "    }\n",
       "\n",
       "    .dataframe thead th {\n",
       "        text-align: right;\n",
       "    }\n",
       "</style>\n",
       "<table border=\"1\" class=\"dataframe\">\n",
       "  <thead>\n",
       "    <tr style=\"text-align: right;\">\n",
       "      <th></th>\n",
       "      <th>close</th>\n",
       "      <th>high</th>\n",
       "      <th>low</th>\n",
       "      <th>open</th>\n",
       "      <th>quoteVolume</th>\n",
       "      <th>volume</th>\n",
       "      <th>weightedAverage</th>\n",
       "    </tr>\n",
       "    <tr>\n",
       "      <th>date</th>\n",
       "      <th></th>\n",
       "      <th></th>\n",
       "      <th></th>\n",
       "      <th></th>\n",
       "      <th></th>\n",
       "      <th></th>\n",
       "      <th></th>\n",
       "    </tr>\n",
       "  </thead>\n",
       "  <tbody>\n",
       "    <tr>\n",
       "      <th>2020-07-13 13:20:00</th>\n",
       "      <td>0.026252</td>\n",
       "      <td>0.026279</td>\n",
       "      <td>0.026252</td>\n",
       "      <td>0.026271</td>\n",
       "      <td>9.738598</td>\n",
       "      <td>0.255774</td>\n",
       "      <td>0.026264</td>\n",
       "    </tr>\n",
       "    <tr>\n",
       "      <th>2020-07-13 13:25:00</th>\n",
       "      <td>0.026266</td>\n",
       "      <td>0.026281</td>\n",
       "      <td>0.026238</td>\n",
       "      <td>0.026238</td>\n",
       "      <td>3.802965</td>\n",
       "      <td>0.099904</td>\n",
       "      <td>0.026270</td>\n",
       "    </tr>\n",
       "    <tr>\n",
       "      <th>2020-07-13 13:30:00</th>\n",
       "      <td>0.026255</td>\n",
       "      <td>0.026270</td>\n",
       "      <td>0.026255</td>\n",
       "      <td>0.026270</td>\n",
       "      <td>14.871587</td>\n",
       "      <td>0.390597</td>\n",
       "      <td>0.026265</td>\n",
       "    </tr>\n",
       "    <tr>\n",
       "      <th>2020-07-13 13:35:00</th>\n",
       "      <td>0.026259</td>\n",
       "      <td>0.026263</td>\n",
       "      <td>0.026255</td>\n",
       "      <td>0.026255</td>\n",
       "      <td>0.001322</td>\n",
       "      <td>0.000035</td>\n",
       "      <td>0.026262</td>\n",
       "    </tr>\n",
       "    <tr>\n",
       "      <th>2020-07-13 13:40:00</th>\n",
       "      <td>0.026263</td>\n",
       "      <td>0.026263</td>\n",
       "      <td>0.026255</td>\n",
       "      <td>0.026263</td>\n",
       "      <td>0.950676</td>\n",
       "      <td>0.024965</td>\n",
       "      <td>0.026260</td>\n",
       "    </tr>\n",
       "  </tbody>\n",
       "</table>\n",
       "</div>"
      ],
      "text/plain": [
       "                        close      high       low      open  quoteVolume  \\\n",
       "date                                                                       \n",
       "2020-07-13 13:20:00  0.026252  0.026279  0.026252  0.026271     9.738598   \n",
       "2020-07-13 13:25:00  0.026266  0.026281  0.026238  0.026238     3.802965   \n",
       "2020-07-13 13:30:00  0.026255  0.026270  0.026255  0.026270    14.871587   \n",
       "2020-07-13 13:35:00  0.026259  0.026263  0.026255  0.026255     0.001322   \n",
       "2020-07-13 13:40:00  0.026263  0.026263  0.026255  0.026263     0.950676   \n",
       "\n",
       "                       volume  weightedAverage  \n",
       "date                                            \n",
       "2020-07-13 13:20:00  0.255774         0.026264  \n",
       "2020-07-13 13:25:00  0.099904         0.026270  \n",
       "2020-07-13 13:30:00  0.390597         0.026265  \n",
       "2020-07-13 13:35:00  0.000035         0.026262  \n",
       "2020-07-13 13:40:00  0.024965         0.026260  "
      ]
     },
     "execution_count": 7,
     "metadata": {},
     "output_type": "execute_result"
    }
   ],
   "source": [
    "df.tail()"
   ]
  },
  {
   "cell_type": "markdown",
   "metadata": {},
   "source": [
    "# Retorno Simples"
   ]
  },
  {
   "cell_type": "code",
   "execution_count": 8,
   "metadata": {},
   "outputs": [],
   "source": [
    "\n",
    "df['simpleReturn'] = (df['close']/df['close'].shift(1))-1"
   ]
  },
  {
   "cell_type": "code",
   "execution_count": 9,
   "metadata": {},
   "outputs": [
    {
     "data": {
      "text/html": [
       "<div>\n",
       "<style scoped>\n",
       "    .dataframe tbody tr th:only-of-type {\n",
       "        vertical-align: middle;\n",
       "    }\n",
       "\n",
       "    .dataframe tbody tr th {\n",
       "        vertical-align: top;\n",
       "    }\n",
       "\n",
       "    .dataframe thead th {\n",
       "        text-align: right;\n",
       "    }\n",
       "</style>\n",
       "<table border=\"1\" class=\"dataframe\">\n",
       "  <thead>\n",
       "    <tr style=\"text-align: right;\">\n",
       "      <th></th>\n",
       "      <th>close</th>\n",
       "      <th>high</th>\n",
       "      <th>low</th>\n",
       "      <th>open</th>\n",
       "      <th>quoteVolume</th>\n",
       "      <th>volume</th>\n",
       "      <th>weightedAverage</th>\n",
       "      <th>simpleReturn</th>\n",
       "    </tr>\n",
       "    <tr>\n",
       "      <th>date</th>\n",
       "      <th></th>\n",
       "      <th></th>\n",
       "      <th></th>\n",
       "      <th></th>\n",
       "      <th></th>\n",
       "      <th></th>\n",
       "      <th></th>\n",
       "      <th></th>\n",
       "    </tr>\n",
       "  </thead>\n",
       "  <tbody>\n",
       "    <tr>\n",
       "      <th>2020-07-13 13:20:00</th>\n",
       "      <td>0.026252</td>\n",
       "      <td>0.026279</td>\n",
       "      <td>0.026252</td>\n",
       "      <td>0.026271</td>\n",
       "      <td>9.738598</td>\n",
       "      <td>0.255774</td>\n",
       "      <td>0.026264</td>\n",
       "      <td>0.000112</td>\n",
       "    </tr>\n",
       "    <tr>\n",
       "      <th>2020-07-13 13:25:00</th>\n",
       "      <td>0.026266</td>\n",
       "      <td>0.026281</td>\n",
       "      <td>0.026238</td>\n",
       "      <td>0.026238</td>\n",
       "      <td>3.802965</td>\n",
       "      <td>0.099904</td>\n",
       "      <td>0.026270</td>\n",
       "      <td>0.000533</td>\n",
       "    </tr>\n",
       "    <tr>\n",
       "      <th>2020-07-13 13:30:00</th>\n",
       "      <td>0.026255</td>\n",
       "      <td>0.026270</td>\n",
       "      <td>0.026255</td>\n",
       "      <td>0.026270</td>\n",
       "      <td>14.871587</td>\n",
       "      <td>0.390597</td>\n",
       "      <td>0.026265</td>\n",
       "      <td>-0.000432</td>\n",
       "    </tr>\n",
       "    <tr>\n",
       "      <th>2020-07-13 13:35:00</th>\n",
       "      <td>0.026259</td>\n",
       "      <td>0.026263</td>\n",
       "      <td>0.026255</td>\n",
       "      <td>0.026255</td>\n",
       "      <td>0.001322</td>\n",
       "      <td>0.000035</td>\n",
       "      <td>0.026262</td>\n",
       "      <td>0.000166</td>\n",
       "    </tr>\n",
       "    <tr>\n",
       "      <th>2020-07-13 13:40:00</th>\n",
       "      <td>0.026263</td>\n",
       "      <td>0.026263</td>\n",
       "      <td>0.026255</td>\n",
       "      <td>0.026263</td>\n",
       "      <td>0.950676</td>\n",
       "      <td>0.024965</td>\n",
       "      <td>0.026260</td>\n",
       "      <td>0.000162</td>\n",
       "    </tr>\n",
       "  </tbody>\n",
       "</table>\n",
       "</div>"
      ],
      "text/plain": [
       "                        close      high       low      open  quoteVolume  \\\n",
       "date                                                                       \n",
       "2020-07-13 13:20:00  0.026252  0.026279  0.026252  0.026271     9.738598   \n",
       "2020-07-13 13:25:00  0.026266  0.026281  0.026238  0.026238     3.802965   \n",
       "2020-07-13 13:30:00  0.026255  0.026270  0.026255  0.026270    14.871587   \n",
       "2020-07-13 13:35:00  0.026259  0.026263  0.026255  0.026255     0.001322   \n",
       "2020-07-13 13:40:00  0.026263  0.026263  0.026255  0.026263     0.950676   \n",
       "\n",
       "                       volume  weightedAverage  simpleReturn  \n",
       "date                                                          \n",
       "2020-07-13 13:20:00  0.255774         0.026264      0.000112  \n",
       "2020-07-13 13:25:00  0.099904         0.026270      0.000533  \n",
       "2020-07-13 13:30:00  0.390597         0.026265     -0.000432  \n",
       "2020-07-13 13:35:00  0.000035         0.026262      0.000166  \n",
       "2020-07-13 13:40:00  0.024965         0.026260      0.000162  "
      ]
     },
     "execution_count": 9,
     "metadata": {},
     "output_type": "execute_result"
    }
   ],
   "source": [
    "df.tail()"
   ]
  },
  {
   "cell_type": "code",
   "execution_count": 10,
   "metadata": {},
   "outputs": [
    {
     "data": {
      "image/png": "[encoded data removed]",
      "text/plain": [
       "<Figure size 1152x360 with 1 Axes>"
      ]
     },
     "metadata": {
      "needs_background": "light"
     },
     "output_type": "display_data"
    }
   ],
   "source": [
    "df['simpleReturn'].plot(figsize=(16,5));"
   ]
  },
  {
   "cell_type": "code",
   "execution_count": 15,
   "metadata": {},
   "outputs": [
    {
     "data": {
      "text/plain": [
       "0.0016989165151967407"
      ]
     },
     "execution_count": 15,
     "metadata": {},
     "output_type": "execute_result"
    }
   ],
   "source": [
    "df['simpleReturn'].mean()*12*24"
   ]
  },
  {
   "cell_type": "markdown",
   "metadata": {},
   "source": [
    "# Retorno Logaritmo"
   ]
  },
  {
   "cell_type": "code",
   "execution_count": 18,
   "metadata": {},
   "outputs": [],
   "source": [
    "df['logReturn'] = np.log(df['close']/df['close'].shift(1))"
   ]
  },
  {
   "cell_type": "code",
   "execution_count": 26,
   "metadata": {},
   "outputs": [],
   "source": [
    "df = df = df[\"close\"]"
   ]
  },
  {
   "cell_type": "code",
   "execution_count": 29,
   "metadata": {
    "scrolled": true
   },
   "outputs": [
    {
     "data": {
      "text/plain": [
       "pandas.core.series.Series"
      ]
     },
     "execution_count": 29,
     "metadata": {},
     "output_type": "execute_result"
    }
   ],
   "source": [
    "type(df)"
   ]
  },
  {
   "cell_type": "code",
   "execution_count": 20,
   "metadata": {},
   "outputs": [
    {
     "data": {
      "text/plain": [
       "0.0016989165151967407"
      ]
     },
     "execution_count": 20,
     "metadata": {},
     "output_type": "execute_result"
    }
   ],
   "source": [
    "df['simpleReturn'].mean()*12*24"
   ]
  },
  {
   "cell_type": "code",
   "execution_count": 21,
   "metadata": {},
   "outputs": [
    {
     "data": {
      "text/plain": [
       "0.0014887510292352184"
      ]
     },
     "execution_count": 21,
     "metadata": {},
     "output_type": "execute_result"
    }
   ],
   "source": [
    "df['logReturn'].mean()*12*24"
   ]
  },
  {
   "cell_type": "markdown",
   "metadata": {},
   "source": [
    "# Portfolio"
   ]
  },
  {
   "cell_type": "code",
   "execution_count": 106,
   "metadata": {},
   "outputs": [],
   "source": [
    "def meuPortfolio(lista, coluna = 'close'): \n",
    "    raw = api.returnChartData(lista[0], period=300, start=time()-api.MONTH*3)\n",
    "    df = pd.DataFrame(raw)\n",
    "    df.drop(['high', 'low', 'open', 'quoteVolume', 'volume', 'weightedAverage'], axis=1, inplace=True)\n",
    "    myData = df.copy()\n",
    "    myData.rename(columns={coluna:lista[0]}, inplace=True)\n",
    "    nova_lista = lista[1:]\n",
    "    for t in nova_lista:    \n",
    "        raw = api.returnChartData(t, period=300, start=time()-api.MONTH*3)\n",
    "        df = pd.DataFrame(raw)\n",
    "        df.rename(columns={coluna:t}, inplace=True)\n",
    "        myData = pd.merge(myData, df[[t, 'date']], on=['date'], how=\"inner\")\n",
    "    \n",
    "    myData['date'] = pd.to_datetime(myData[\"date\"], unit='s')\n",
    "    myData.set_index('date', inplace=True)\n",
    "    return myData"
   ]
  },
  {
   "cell_type": "code",
   "execution_count": 109,
   "metadata": {},
   "outputs": [],
   "source": [
    "tickers = ['BTC_ETH', 'BTC_XRP', 'BTC_DOGE', 'BTC_XMR']\n",
    "teste = meuPortfolio(tickers)"
   ]
  },
  {
   "cell_type": "code",
   "execution_count": 110,
   "metadata": {},
   "outputs": [
    {
     "data": {
      "text/html": [
       "<div>\n",
       "<style scoped>\n",
       "    .dataframe tbody tr th:only-of-type {\n",
       "        vertical-align: middle;\n",
       "    }\n",
       "\n",
       "    .dataframe tbody tr th {\n",
       "        vertical-align: top;\n",
       "    }\n",
       "\n",
       "    .dataframe thead th {\n",
       "        text-align: right;\n",
       "    }\n",
       "</style>\n",
       "<table border=\"1\" class=\"dataframe\">\n",
       "  <thead>\n",
       "    <tr style=\"text-align: right;\">\n",
       "      <th></th>\n",
       "      <th>BTC_ETH</th>\n",
       "      <th>BTC_XRP</th>\n",
       "      <th>BTC_DOGE</th>\n",
       "      <th>BTC_XMR</th>\n",
       "    </tr>\n",
       "    <tr>\n",
       "      <th>date</th>\n",
       "      <th></th>\n",
       "      <th></th>\n",
       "      <th></th>\n",
       "      <th></th>\n",
       "    </tr>\n",
       "  </thead>\n",
       "  <tbody>\n",
       "    <tr>\n",
       "      <th>2020-07-13 15:10:00</th>\n",
       "      <td>0.026149</td>\n",
       "      <td>0.000022</td>\n",
       "      <td>3.500000e-07</td>\n",
       "      <td>0.007483</td>\n",
       "    </tr>\n",
       "    <tr>\n",
       "      <th>2020-07-13 15:15:00</th>\n",
       "      <td>0.026140</td>\n",
       "      <td>0.000022</td>\n",
       "      <td>3.500000e-07</td>\n",
       "      <td>0.007488</td>\n",
       "    </tr>\n",
       "    <tr>\n",
       "      <th>2020-07-13 15:20:00</th>\n",
       "      <td>0.026166</td>\n",
       "      <td>0.000022</td>\n",
       "      <td>3.500000e-07</td>\n",
       "      <td>0.007430</td>\n",
       "    </tr>\n",
       "    <tr>\n",
       "      <th>2020-07-13 15:25:00</th>\n",
       "      <td>0.026140</td>\n",
       "      <td>0.000022</td>\n",
       "      <td>3.600000e-07</td>\n",
       "      <td>0.007443</td>\n",
       "    </tr>\n",
       "    <tr>\n",
       "      <th>2020-07-13 15:30:00</th>\n",
       "      <td>0.026132</td>\n",
       "      <td>0.000022</td>\n",
       "      <td>3.600000e-07</td>\n",
       "      <td>0.007415</td>\n",
       "    </tr>\n",
       "  </tbody>\n",
       "</table>\n",
       "</div>"
      ],
      "text/plain": [
       "                      BTC_ETH   BTC_XRP      BTC_DOGE   BTC_XMR\n",
       "date                                                           \n",
       "2020-07-13 15:10:00  0.026149  0.000022  3.500000e-07  0.007483\n",
       "2020-07-13 15:15:00  0.026140  0.000022  3.500000e-07  0.007488\n",
       "2020-07-13 15:20:00  0.026166  0.000022  3.500000e-07  0.007430\n",
       "2020-07-13 15:25:00  0.026140  0.000022  3.600000e-07  0.007443\n",
       "2020-07-13 15:30:00  0.026132  0.000022  3.600000e-07  0.007415"
      ]
     },
     "execution_count": 110,
     "metadata": {},
     "output_type": "execute_result"
    }
   ],
   "source": [
    "teste.tail()"
   ]
  },
  {
   "cell_type": "code",
   "execution_count": null,
   "metadata": {},
   "outputs": [],
   "source": []
  }
 ],
 "metadata": {
  "kernelspec": {
   "display_name": "Python 3",
   "language": "python",
   "name": "python3"
  },
  "language_info": {
   "codemirror_mode": {
    "name": "ipython",
    "version": 3
   },
   "file_extension": ".py",
   "mimetype": "text/x-python",
   "name": "python",
   "nbconvert_exporter": "python",
   "pygments_lexer": "ipython3",
   "version": "3.7.3"
  }
 },
 "nbformat": 4,
 "nbformat_minor": 2
}
