{
 "cells": [
  {
   "cell_type": "code",
   "execution_count": 16,
   "metadata": {},
   "outputs": [],
   "source": [
    "import pandas as pd\n",
    "import numpy as np\n",
    "from time import time\n",
    "from poloniex import Poloniex\n",
    "import matplotlib.pyplot as plt"
   ]
  },
  {
   "cell_type": "code",
   "execution_count": 2,
   "metadata": {},
   "outputs": [],
   "source": [
    "#Criando uma instancia de Poloniex\n",
    "polo = Poloniex()"
   ]
  },
  {
   "cell_type": "code",
   "execution_count": 111,
   "metadata": {},
   "outputs": [],
   "source": [
    "api = Poloniex(jsonNums=float)\n",
    "\n",
    "#period=api.DAY, start=time()-api.YEAR*10\n",
    "raw = api.returnChartData('BTC_ETH', period=300, start=time()-api.MONTH*3)\n",
    "df = pd.DataFrame(raw)"
   ]
  },
  {
   "cell_type": "code",
   "execution_count": 112,
   "metadata": {},
   "outputs": [],
   "source": [
    "# Ajustando o formato  data e setando como index\n",
    "df['date'] = pd.to_datetime(df[\"date\"], unit='s')\n",
    "df.set_index('date', inplace=True)"
   ]
  },
  {
   "cell_type": "code",
   "execution_count": 113,
   "metadata": {},
   "outputs": [
    {
     "data": {
      "text/html": [
       "<div>\n",
       "<style scoped>\n",
       "    .dataframe tbody tr th:only-of-type {\n",
       "        vertical-align: middle;\n",
       "    }\n",
       "\n",
       "    .dataframe tbody tr th {\n",
       "        vertical-align: top;\n",
       "    }\n",
       "\n",
       "    .dataframe thead th {\n",
       "        text-align: right;\n",
       "    }\n",
       "</style>\n",
       "<table border=\"1\" class=\"dataframe\">\n",
       "  <thead>\n",
       "    <tr style=\"text-align: right;\">\n",
       "      <th></th>\n",
       "      <th>close</th>\n",
       "      <th>high</th>\n",
       "      <th>low</th>\n",
       "      <th>open</th>\n",
       "      <th>quoteVolume</th>\n",
       "      <th>volume</th>\n",
       "      <th>weightedAverage</th>\n",
       "    </tr>\n",
       "    <tr>\n",
       "      <th>date</th>\n",
       "      <th></th>\n",
       "      <th></th>\n",
       "      <th></th>\n",
       "      <th></th>\n",
       "      <th></th>\n",
       "      <th></th>\n",
       "      <th></th>\n",
       "    </tr>\n",
       "  </thead>\n",
       "  <tbody>\n",
       "    <tr>\n",
       "      <th>2020-04-14 15:34:08</th>\n",
       "      <td>0.023115</td>\n",
       "      <td>0.023115</td>\n",
       "      <td>0.023115</td>\n",
       "      <td>0.023115</td>\n",
       "      <td>0.000000</td>\n",
       "      <td>0.000000</td>\n",
       "      <td>0.023115</td>\n",
       "    </tr>\n",
       "    <tr>\n",
       "      <th>2020-04-14 15:35:00</th>\n",
       "      <td>0.023131</td>\n",
       "      <td>0.023139</td>\n",
       "      <td>0.023120</td>\n",
       "      <td>0.023132</td>\n",
       "      <td>3.359898</td>\n",
       "      <td>0.077682</td>\n",
       "      <td>0.023120</td>\n",
       "    </tr>\n",
       "    <tr>\n",
       "      <th>2020-04-14 15:40:00</th>\n",
       "      <td>0.023134</td>\n",
       "      <td>0.023155</td>\n",
       "      <td>0.023134</td>\n",
       "      <td>0.023139</td>\n",
       "      <td>47.241380</td>\n",
       "      <td>1.093785</td>\n",
       "      <td>0.023153</td>\n",
       "    </tr>\n",
       "    <tr>\n",
       "      <th>2020-04-14 15:45:00</th>\n",
       "      <td>0.023123</td>\n",
       "      <td>0.023142</td>\n",
       "      <td>0.023110</td>\n",
       "      <td>0.023138</td>\n",
       "      <td>35.125133</td>\n",
       "      <td>0.811990</td>\n",
       "      <td>0.023117</td>\n",
       "    </tr>\n",
       "    <tr>\n",
       "      <th>2020-04-14 15:50:00</th>\n",
       "      <td>0.023138</td>\n",
       "      <td>0.023155</td>\n",
       "      <td>0.023123</td>\n",
       "      <td>0.023123</td>\n",
       "      <td>14.556544</td>\n",
       "      <td>0.336881</td>\n",
       "      <td>0.023143</td>\n",
       "    </tr>\n",
       "  </tbody>\n",
       "</table>\n",
       "</div>"
      ],
      "text/plain": [
       "                        close      high       low      open  quoteVolume  \\\n",
       "date                                                                       \n",
       "2020-04-14 15:34:08  0.023115  0.023115  0.023115  0.023115     0.000000   \n",
       "2020-04-14 15:35:00  0.023131  0.023139  0.023120  0.023132     3.359898   \n",
       "2020-04-14 15:40:00  0.023134  0.023155  0.023134  0.023139    47.241380   \n",
       "2020-04-14 15:45:00  0.023123  0.023142  0.023110  0.023138    35.125133   \n",
       "2020-04-14 15:50:00  0.023138  0.023155  0.023123  0.023123    14.556544   \n",
       "\n",
       "                       volume  weightedAverage  \n",
       "date                                            \n",
       "2020-04-14 15:34:08  0.000000         0.023115  \n",
       "2020-04-14 15:35:00  0.077682         0.023120  \n",
       "2020-04-14 15:40:00  1.093785         0.023153  \n",
       "2020-04-14 15:45:00  0.811990         0.023117  \n",
       "2020-04-14 15:50:00  0.336881         0.023143  "
      ]
     },
     "execution_count": 113,
     "metadata": {},
     "output_type": "execute_result"
    }
   ],
   "source": [
    "df.head()"
   ]
  },
  {
   "cell_type": "code",
   "execution_count": 6,
   "metadata": {
    "scrolled": false
   },
   "outputs": [
    {
     "data": {
      "text/plain": [
       "(25921, 7)"
      ]
     },
     "execution_count": 6,
     "metadata": {},
     "output_type": "execute_result"
    }
   ],
   "source": [
    "df.shape"
   ]
  },
  {
   "cell_type": "code",
   "execution_count": 7,
   "metadata": {},
   "outputs": [
    {
     "data": {
      "text/html": [
       "<div>\n",
       "<style scoped>\n",
       "    .dataframe tbody tr th:only-of-type {\n",
       "        vertical-align: middle;\n",
       "    }\n",
       "\n",
       "    .dataframe tbody tr th {\n",
       "        vertical-align: top;\n",
       "    }\n",
       "\n",
       "    .dataframe thead th {\n",
       "        text-align: right;\n",
       "    }\n",
       "</style>\n",
       "<table border=\"1\" class=\"dataframe\">\n",
       "  <thead>\n",
       "    <tr style=\"text-align: right;\">\n",
       "      <th></th>\n",
       "      <th>close</th>\n",
       "      <th>high</th>\n",
       "      <th>low</th>\n",
       "      <th>open</th>\n",
       "      <th>quoteVolume</th>\n",
       "      <th>volume</th>\n",
       "      <th>weightedAverage</th>\n",
       "    </tr>\n",
       "    <tr>\n",
       "      <th>date</th>\n",
       "      <th></th>\n",
       "      <th></th>\n",
       "      <th></th>\n",
       "      <th></th>\n",
       "      <th></th>\n",
       "      <th></th>\n",
       "      <th></th>\n",
       "    </tr>\n",
       "  </thead>\n",
       "  <tbody>\n",
       "    <tr>\n",
       "      <th>2020-07-13 13:20:00</th>\n",
       "      <td>0.026252</td>\n",
       "      <td>0.026279</td>\n",
       "      <td>0.026252</td>\n",
       "      <td>0.026271</td>\n",
       "      <td>9.738598</td>\n",
       "      <td>0.255774</td>\n",
       "      <td>0.026264</td>\n",
       "    </tr>\n",
       "    <tr>\n",
       "      <th>2020-07-13 13:25:00</th>\n",
       "      <td>0.026266</td>\n",
       "      <td>0.026281</td>\n",
       "      <td>0.026238</td>\n",
       "      <td>0.026238</td>\n",
       "      <td>3.802965</td>\n",
       "      <td>0.099904</td>\n",
       "      <td>0.026270</td>\n",
       "    </tr>\n",
       "    <tr>\n",
       "      <th>2020-07-13 13:30:00</th>\n",
       "      <td>0.026255</td>\n",
       "      <td>0.026270</td>\n",
       "      <td>0.026255</td>\n",
       "      <td>0.026270</td>\n",
       "      <td>14.871587</td>\n",
       "      <td>0.390597</td>\n",
       "      <td>0.026265</td>\n",
       "    </tr>\n",
       "    <tr>\n",
       "      <th>2020-07-13 13:35:00</th>\n",
       "      <td>0.026259</td>\n",
       "      <td>0.026263</td>\n",
       "      <td>0.026255</td>\n",
       "      <td>0.026255</td>\n",
       "      <td>0.001322</td>\n",
       "      <td>0.000035</td>\n",
       "      <td>0.026262</td>\n",
       "    </tr>\n",
       "    <tr>\n",
       "      <th>2020-07-13 13:40:00</th>\n",
       "      <td>0.026263</td>\n",
       "      <td>0.026263</td>\n",
       "      <td>0.026255</td>\n",
       "      <td>0.026263</td>\n",
       "      <td>0.950676</td>\n",
       "      <td>0.024965</td>\n",
       "      <td>0.026260</td>\n",
       "    </tr>\n",
       "  </tbody>\n",
       "</table>\n",
       "</div>"
      ],
      "text/plain": [
       "                        close      high       low      open  quoteVolume  \\\n",
       "date                                                                       \n",
       "2020-07-13 13:20:00  0.026252  0.026279  0.026252  0.026271     9.738598   \n",
       "2020-07-13 13:25:00  0.026266  0.026281  0.026238  0.026238     3.802965   \n",
       "2020-07-13 13:30:00  0.026255  0.026270  0.026255  0.026270    14.871587   \n",
       "2020-07-13 13:35:00  0.026259  0.026263  0.026255  0.026255     0.001322   \n",
       "2020-07-13 13:40:00  0.026263  0.026263  0.026255  0.026263     0.950676   \n",
       "\n",
       "                       volume  weightedAverage  \n",
       "date                                            \n",
       "2020-07-13 13:20:00  0.255774         0.026264  \n",
       "2020-07-13 13:25:00  0.099904         0.026270  \n",
       "2020-07-13 13:30:00  0.390597         0.026265  \n",
       "2020-07-13 13:35:00  0.000035         0.026262  \n",
       "2020-07-13 13:40:00  0.024965         0.026260  "
      ]
     },
     "execution_count": 7,
     "metadata": {},
     "output_type": "execute_result"
    }
   ],
   "source": [
    "df.tail()"
   ]
  },
  {
   "cell_type": "markdown",
   "metadata": {},
   "source": [
    "# Retorno Simples"
   ]
  },
  {
   "cell_type": "code",
   "execution_count": 8,
   "metadata": {},
   "outputs": [],
   "source": [
    "df['simpleReturn'] = (df['close']/df['close'].shift(1))-1"
   ]
  },
  {
   "cell_type": "code",
   "execution_count": 9,
   "metadata": {},
   "outputs": [
    {
     "data": {
      "text/html": [
       "<div>\n",
       "<style scoped>\n",
       "    .dataframe tbody tr th:only-of-type {\n",
       "        vertical-align: middle;\n",
       "    }\n",
       "\n",
       "    .dataframe tbody tr th {\n",
       "        vertical-align: top;\n",
       "    }\n",
       "\n",
       "    .dataframe thead th {\n",
       "        text-align: right;\n",
       "    }\n",
       "</style>\n",
       "<table border=\"1\" class=\"dataframe\">\n",
       "  <thead>\n",
       "    <tr style=\"text-align: right;\">\n",
       "      <th></th>\n",
       "      <th>close</th>\n",
       "      <th>high</th>\n",
       "      <th>low</th>\n",
       "      <th>open</th>\n",
       "      <th>quoteVolume</th>\n",
       "      <th>volume</th>\n",
       "      <th>weightedAverage</th>\n",
       "      <th>simpleReturn</th>\n",
       "    </tr>\n",
       "    <tr>\n",
       "      <th>date</th>\n",
       "      <th></th>\n",
       "      <th></th>\n",
       "      <th></th>\n",
       "      <th></th>\n",
       "      <th></th>\n",
       "      <th></th>\n",
       "      <th></th>\n",
       "      <th></th>\n",
       "    </tr>\n",
       "  </thead>\n",
       "  <tbody>\n",
       "    <tr>\n",
       "      <th>2020-07-13 13:20:00</th>\n",
       "      <td>0.026252</td>\n",
       "      <td>0.026279</td>\n",
       "      <td>0.026252</td>\n",
       "      <td>0.026271</td>\n",
       "      <td>9.738598</td>\n",
       "      <td>0.255774</td>\n",
       "      <td>0.026264</td>\n",
       "      <td>0.000112</td>\n",
       "    </tr>\n",
       "    <tr>\n",
       "      <th>2020-07-13 13:25:00</th>\n",
       "      <td>0.026266</td>\n",
       "      <td>0.026281</td>\n",
       "      <td>0.026238</td>\n",
       "      <td>0.026238</td>\n",
       "      <td>3.802965</td>\n",
       "      <td>0.099904</td>\n",
       "      <td>0.026270</td>\n",
       "      <td>0.000533</td>\n",
       "    </tr>\n",
       "    <tr>\n",
       "      <th>2020-07-13 13:30:00</th>\n",
       "      <td>0.026255</td>\n",
       "      <td>0.026270</td>\n",
       "      <td>0.026255</td>\n",
       "      <td>0.026270</td>\n",
       "      <td>14.871587</td>\n",
       "      <td>0.390597</td>\n",
       "      <td>0.026265</td>\n",
       "      <td>-0.000432</td>\n",
       "    </tr>\n",
       "    <tr>\n",
       "      <th>2020-07-13 13:35:00</th>\n",
       "      <td>0.026259</td>\n",
       "      <td>0.026263</td>\n",
       "      <td>0.026255</td>\n",
       "      <td>0.026255</td>\n",
       "      <td>0.001322</td>\n",
       "      <td>0.000035</td>\n",
       "      <td>0.026262</td>\n",
       "      <td>0.000166</td>\n",
       "    </tr>\n",
       "    <tr>\n",
       "      <th>2020-07-13 13:40:00</th>\n",
       "      <td>0.026263</td>\n",
       "      <td>0.026263</td>\n",
       "      <td>0.026255</td>\n",
       "      <td>0.026263</td>\n",
       "      <td>0.950676</td>\n",
       "      <td>0.024965</td>\n",
       "      <td>0.026260</td>\n",
       "      <td>0.000162</td>\n",
       "    </tr>\n",
       "  </tbody>\n",
       "</table>\n",
       "</div>"
      ],
      "text/plain": [
       "                        close      high       low      open  quoteVolume  \\\n",
       "date                                                                       \n",
       "2020-07-13 13:20:00  0.026252  0.026279  0.026252  0.026271     9.738598   \n",
       "2020-07-13 13:25:00  0.026266  0.026281  0.026238  0.026238     3.802965   \n",
       "2020-07-13 13:30:00  0.026255  0.026270  0.026255  0.026270    14.871587   \n",
       "2020-07-13 13:35:00  0.026259  0.026263  0.026255  0.026255     0.001322   \n",
       "2020-07-13 13:40:00  0.026263  0.026263  0.026255  0.026263     0.950676   \n",
       "\n",
       "                       volume  weightedAverage  simpleReturn  \n",
       "date                                                          \n",
       "2020-07-13 13:20:00  0.255774         0.026264      0.000112  \n",
       "2020-07-13 13:25:00  0.099904         0.026270      0.000533  \n",
       "2020-07-13 13:30:00  0.390597         0.026265     -0.000432  \n",
       "2020-07-13 13:35:00  0.000035         0.026262      0.000166  \n",
       "2020-07-13 13:40:00  0.024965         0.026260      0.000162  "
      ]
     },
     "execution_count": 9,
     "metadata": {},
     "output_type": "execute_result"
    }
   ],
   "source": [
    "df.tail()"
   ]
  },
  {
   "cell_type": "code",
   "execution_count": 10,
   "metadata": {},
   "outputs": [
    {
     "data": {
      "image/png": "[encoded data removed]",
      "text/plain": [
       "<Figure size 1152x360 with 1 Axes>"
      ]
     },
     "metadata": {
      "needs_background": "light"
     },
     "output_type": "display_data"
    }
   ],
   "source": [
    "df['simpleReturn'].plot(figsize=(16,5));"
   ]
  },
  {
   "cell_type": "code",
   "execution_count": 15,
   "metadata": {},
   "outputs": [
    {
     "data": {
      "text/plain": [
       "0.0016989165151967407"
      ]
     },
     "execution_count": 15,
     "metadata": {},
     "output_type": "execute_result"
    }
   ],
   "source": [
    "df['simpleReturn'].mean()*12*24"
   ]
  },
  {
   "cell_type": "markdown",
   "metadata": {},
   "source": [
    "# Retorno Logaritmo"
   ]
  },
  {
   "cell_type": "code",
   "execution_count": 18,
   "metadata": {},
   "outputs": [],
   "source": [
    "df['logReturn'] = np.log(df['close']/df['close'].shift(1))"
   ]
  },
  {
   "cell_type": "code",
   "execution_count": 26,
   "metadata": {},
   "outputs": [],
   "source": [
    "df = df = df[\"close\"]"
   ]
  },
  {
   "cell_type": "code",
   "execution_count": 29,
   "metadata": {
    "scrolled": true
   },
   "outputs": [
    {
     "data": {
      "text/plain": [
       "pandas.core.series.Series"
      ]
     },
     "execution_count": 29,
     "metadata": {},
     "output_type": "execute_result"
    }
   ],
   "source": [
    "type(df)"
   ]
  },
  {
   "cell_type": "code",
   "execution_count": 20,
   "metadata": {},
   "outputs": [
    {
     "data": {
      "text/plain": [
       "0.0016989165151967407"
      ]
     },
     "execution_count": 20,
     "metadata": {},
     "output_type": "execute_result"
    }
   ],
   "source": [
    "df['simpleReturn'].mean()*12*24"
   ]
  },
  {
   "cell_type": "code",
   "execution_count": 21,
   "metadata": {},
   "outputs": [
    {
     "data": {
      "text/plain": [
       "0.0014887510292352184"
      ]
     },
     "execution_count": 21,
     "metadata": {},
     "output_type": "execute_result"
    }
   ],
   "source": [
    "df['logReturn'].mean()*12*24"
   ]
  },
  {
   "cell_type": "markdown",
   "metadata": {},
   "source": [
    "# Portfolio"
   ]
  },
  {
   "cell_type": "code",
   "execution_count": 106,
   "metadata": {},
   "outputs": [],
   "source": [
    "def meuPortfolio(lista, coluna = 'close'): \n",
    "    raw = api.returnChartData(lista[0], period=300, start=time()-api.MONTH*3)\n",
    "    df = pd.DataFrame(raw)\n",
    "    df.drop(['high', 'low', 'open', 'quoteVolume', 'volume', 'weightedAverage'], axis=1, inplace=True)\n",
    "    myData = df.copy()\n",
    "    myData.rename(columns={coluna:lista[0]}, inplace=True)\n",
    "    nova_lista = lista[1:]\n",
    "    for t in nova_lista:    \n",
    "        raw = api.returnChartData(t, period=300, start=time()-api.MONTH*3)\n",
    "        df = pd.DataFrame(raw)\n",
    "        df.rename(columns={coluna:t}, inplace=True)\n",
    "        myData = pd.merge(myData, df[[t, 'date']], on=['date'], how=\"inner\")\n",
    "    \n",
    "    myData['date'] = pd.to_datetime(myData[\"date\"], unit='s')\n",
    "    myData.set_index('date', inplace=True)\n",
    "    return myData"
   ]
  },
  {
   "cell_type": "code",
   "execution_count": 123,
   "metadata": {},
   "outputs": [],
   "source": [
    "tickers = ['BTC_ETH', 'BTC_XRP', 'BTC_DOGE', 'BTC_XMR']\n",
    "teste = meuPortfolio(tickers)"
   ]
  },
  {
   "cell_type": "code",
   "execution_count": 124,
   "metadata": {},
   "outputs": [
    {
     "data": {
      "text/html": [
       "<div>\n",
       "<style scoped>\n",
       "    .dataframe tbody tr th:only-of-type {\n",
       "        vertical-align: middle;\n",
       "    }\n",
       "\n",
       "    .dataframe tbody tr th {\n",
       "        vertical-align: top;\n",
       "    }\n",
       "\n",
       "    .dataframe thead th {\n",
       "        text-align: right;\n",
       "    }\n",
       "</style>\n",
       "<table border=\"1\" class=\"dataframe\">\n",
       "  <thead>\n",
       "    <tr style=\"text-align: right;\">\n",
       "      <th></th>\n",
       "      <th>BTC_ETH</th>\n",
       "      <th>BTC_XRP</th>\n",
       "      <th>BTC_DOGE</th>\n",
       "      <th>BTC_XMR</th>\n",
       "    </tr>\n",
       "    <tr>\n",
       "      <th>date</th>\n",
       "      <th></th>\n",
       "      <th></th>\n",
       "      <th></th>\n",
       "      <th></th>\n",
       "    </tr>\n",
       "  </thead>\n",
       "  <tbody>\n",
       "    <tr>\n",
       "      <th>2020-07-13 15:40:00</th>\n",
       "      <td>0.026088</td>\n",
       "      <td>0.000022</td>\n",
       "      <td>3.500000e-07</td>\n",
       "      <td>0.007385</td>\n",
       "    </tr>\n",
       "    <tr>\n",
       "      <th>2020-07-13 15:45:00</th>\n",
       "      <td>0.026121</td>\n",
       "      <td>0.000022</td>\n",
       "      <td>3.500000e-07</td>\n",
       "      <td>0.007380</td>\n",
       "    </tr>\n",
       "    <tr>\n",
       "      <th>2020-07-13 15:50:00</th>\n",
       "      <td>0.026101</td>\n",
       "      <td>0.000022</td>\n",
       "      <td>3.600000e-07</td>\n",
       "      <td>0.007385</td>\n",
       "    </tr>\n",
       "    <tr>\n",
       "      <th>2020-07-13 15:55:00</th>\n",
       "      <td>0.026131</td>\n",
       "      <td>0.000022</td>\n",
       "      <td>3.600000e-07</td>\n",
       "      <td>0.007407</td>\n",
       "    </tr>\n",
       "    <tr>\n",
       "      <th>2020-07-13 16:00:00</th>\n",
       "      <td>0.026132</td>\n",
       "      <td>0.000022</td>\n",
       "      <td>3.600000e-07</td>\n",
       "      <td>0.007421</td>\n",
       "    </tr>\n",
       "  </tbody>\n",
       "</table>\n",
       "</div>"
      ],
      "text/plain": [
       "                      BTC_ETH   BTC_XRP      BTC_DOGE   BTC_XMR\n",
       "date                                                           \n",
       "2020-07-13 15:40:00  0.026088  0.000022  3.500000e-07  0.007385\n",
       "2020-07-13 15:45:00  0.026121  0.000022  3.500000e-07  0.007380\n",
       "2020-07-13 15:50:00  0.026101  0.000022  3.600000e-07  0.007385\n",
       "2020-07-13 15:55:00  0.026131  0.000022  3.600000e-07  0.007407\n",
       "2020-07-13 16:00:00  0.026132  0.000022  3.600000e-07  0.007421"
      ]
     },
     "execution_count": 124,
     "metadata": {},
     "output_type": "execute_result"
    }
   ],
   "source": [
    "teste.tail()"
   ]
  },
  {
   "cell_type": "code",
   "execution_count": 125,
   "metadata": {},
   "outputs": [
    {
     "data": {
      "image/png": "[encoded data removed]",
      "text/plain": [
       "<Figure size 1080x432 with 1 Axes>"
      ]
     },
     "metadata": {
      "needs_background": "light"
     },
     "output_type": "display_data"
    }
   ],
   "source": [
    "(teste/teste.iloc[0]*100).plot(figsize = (15,6));\n",
    "plt.show()"
   ]
  },
  {
   "cell_type": "code",
   "execution_count": 126,
   "metadata": {},
   "outputs": [],
   "source": [
    "retornoSimples = (teste/teste.shift(1))-1"
   ]
  },
  {
   "cell_type": "code",
   "execution_count": 127,
   "metadata": {},
   "outputs": [
    {
     "data": {
      "text/html": [
       "<div>\n",
       "<style scoped>\n",
       "    .dataframe tbody tr th:only-of-type {\n",
       "        vertical-align: middle;\n",
       "    }\n",
       "\n",
       "    .dataframe tbody tr th {\n",
       "        vertical-align: top;\n",
       "    }\n",
       "\n",
       "    .dataframe thead th {\n",
       "        text-align: right;\n",
       "    }\n",
       "</style>\n",
       "<table border=\"1\" class=\"dataframe\">\n",
       "  <thead>\n",
       "    <tr style=\"text-align: right;\">\n",
       "      <th></th>\n",
       "      <th>BTC_ETH</th>\n",
       "      <th>BTC_XRP</th>\n",
       "      <th>BTC_DOGE</th>\n",
       "      <th>BTC_XMR</th>\n",
       "    </tr>\n",
       "    <tr>\n",
       "      <th>date</th>\n",
       "      <th></th>\n",
       "      <th></th>\n",
       "      <th></th>\n",
       "      <th></th>\n",
       "    </tr>\n",
       "  </thead>\n",
       "  <tbody>\n",
       "    <tr>\n",
       "      <th>2020-04-14 16:05:00</th>\n",
       "      <td>NaN</td>\n",
       "      <td>NaN</td>\n",
       "      <td>NaN</td>\n",
       "      <td>NaN</td>\n",
       "    </tr>\n",
       "    <tr>\n",
       "      <th>2020-04-14 16:10:00</th>\n",
       "      <td>-0.000317</td>\n",
       "      <td>-0.000368</td>\n",
       "      <td>0.000000</td>\n",
       "      <td>-0.000068</td>\n",
       "    </tr>\n",
       "    <tr>\n",
       "      <th>2020-04-14 16:15:00</th>\n",
       "      <td>0.000404</td>\n",
       "      <td>0.000737</td>\n",
       "      <td>0.035714</td>\n",
       "      <td>0.000072</td>\n",
       "    </tr>\n",
       "    <tr>\n",
       "      <th>2020-04-14 16:20:00</th>\n",
       "      <td>0.001463</td>\n",
       "      <td>0.001105</td>\n",
       "      <td>-0.034483</td>\n",
       "      <td>0.001765</td>\n",
       "    </tr>\n",
       "    <tr>\n",
       "      <th>2020-04-14 16:25:00</th>\n",
       "      <td>0.001605</td>\n",
       "      <td>0.000736</td>\n",
       "      <td>0.000000</td>\n",
       "      <td>0.000000</td>\n",
       "    </tr>\n",
       "  </tbody>\n",
       "</table>\n",
       "</div>"
      ],
      "text/plain": [
       "                      BTC_ETH   BTC_XRP  BTC_DOGE   BTC_XMR\n",
       "date                                                       \n",
       "2020-04-14 16:05:00       NaN       NaN       NaN       NaN\n",
       "2020-04-14 16:10:00 -0.000317 -0.000368  0.000000 -0.000068\n",
       "2020-04-14 16:15:00  0.000404  0.000737  0.035714  0.000072\n",
       "2020-04-14 16:20:00  0.001463  0.001105 -0.034483  0.001765\n",
       "2020-04-14 16:25:00  0.001605  0.000736  0.000000  0.000000"
      ]
     },
     "execution_count": 127,
     "metadata": {},
     "output_type": "execute_result"
    }
   ],
   "source": [
    "retornoSimples.head()"
   ]
  },
  {
   "cell_type": "code",
   "execution_count": 128,
   "metadata": {},
   "outputs": [],
   "source": [
    "pesos = [0.25, 0.25, 0.25, 0.25]"
   ]
  },
  {
   "cell_type": "code",
   "execution_count": 129,
   "metadata": {},
   "outputs": [
    {
     "data": {
      "text/plain": [
       "array([        nan, -0.00018846,  0.00923183, ...,  0.00688192,\n",
       "        0.00125299,  0.00095848])"
      ]
     },
     "execution_count": 129,
     "metadata": {},
     "output_type": "execute_result"
    }
   ],
   "source": [
    "np.dot(retornoSimples, pesos)"
   ]
  },
  {
   "cell_type": "code",
   "execution_count": 130,
   "metadata": {},
   "outputs": [],
   "source": [
    "retorno_anual = retornoSimples.mean()*12*24*365"
   ]
  },
  {
   "cell_type": "code",
   "execution_count": 131,
   "metadata": {},
   "outputs": [
    {
     "data": {
      "text/plain": [
       "BTC_ETH      0.574334\n",
       "BTC_XRP     -0.791204\n",
       "BTC_DOGE    18.791461\n",
       "BTC_XMR     -0.078624\n",
       "dtype: float64"
      ]
     },
     "execution_count": 131,
     "metadata": {},
     "output_type": "execute_result"
    }
   ],
   "source": [
    "retorno_anual"
   ]
  },
  {
   "cell_type": "code",
   "execution_count": 132,
   "metadata": {},
   "outputs": [
    {
     "data": {
      "text/plain": [
       "4.623991745969181"
      ]
     },
     "execution_count": 132,
     "metadata": {},
     "output_type": "execute_result"
    }
   ],
   "source": [
    "np.dot(retorno_anual, pesos)"
   ]
  },
  {
   "cell_type": "code",
   "execution_count": null,
   "metadata": {},
   "outputs": [],
   "source": []
  }
 ],
 "metadata": {
  "kernelspec": {
   "display_name": "Python 3",
   "language": "python",
   "name": "python3"
  },
  "language_info": {
   "codemirror_mode": {
    "name": "ipython",
    "version": 3
   },
   "file_extension": ".py",
   "mimetype": "text/x-python",
   "name": "python",
   "nbconvert_exporter": "python",
   "pygments_lexer": "ipython3",
   "version": "3.7.3"
  }
 },
 "nbformat": 4,
 "nbformat_minor": 2
}
