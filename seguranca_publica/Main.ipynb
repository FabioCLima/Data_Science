{
 "cells": [
  {
   "cell_type": "markdown",
   "metadata": {},
   "source": [
    "Encontrei o tutorial em https://medium.com/ensina-ai/prevendo-roubos-de-celulares-em-s%C3%A3o-paulo-4ee5b0845fc2 \n",
    "Achei muito interessante aprendi várias tecnicas como:\n",
    "\n",
    "\n",
    "\n",
    "Caso esteja vendo no github utilize o __NBViewer__ para ver a interação dos gráficos\n",
    "Link :"
   ]
  },
  {
   "cell_type": "code",
   "execution_count": null,
   "metadata": {},
   "outputs": [],
   "source": []
  }
 ],
 "metadata": {
  "kernelspec": {
   "display_name": "Python 3",
   "language": "python",
   "name": "python3"
  },
  "language_info": {
   "codemirror_mode": {
    "name": "ipython",
    "version": 3
   },
   "file_extension": ".py",
   "mimetype": "text/x-python",
   "name": "python",
   "nbconvert_exporter": "python",
   "pygments_lexer": "ipython3",
   "version": "3.7.3"
  }
 },
 "nbformat": 4,
 "nbformat_minor": 2
}
