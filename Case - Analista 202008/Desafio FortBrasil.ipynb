{
 "cells": [
  {
   "cell_type": "code",
   "execution_count": 1,
   "metadata": {},
   "outputs": [],
   "source": [
    "import pandas as pd"
   ]
  },
  {
   "cell_type": "code",
   "execution_count": 5,
   "metadata": {},
   "outputs": [],
   "source": [
    "dataframe_questao_1 = pd.read_csv(\"bases/questao1_coronavirus.csv\", delimiter=\";\")"
   ]
  },
  {
   "cell_type": "code",
   "execution_count": 7,
   "metadata": {},
   "outputs": [
    {
     "data": {
      "text/html": [
       "<div>\n",
       "<style scoped>\n",
       "    .dataframe tbody tr th:only-of-type {\n",
       "        vertical-align: middle;\n",
       "    }\n",
       "\n",
       "    .dataframe tbody tr th {\n",
       "        vertical-align: top;\n",
       "    }\n",
       "\n",
       "    .dataframe thead th {\n",
       "        text-align: right;\n",
       "    }\n",
       "</style>\n",
       "<table border=\"1\" class=\"dataframe\">\n",
       "  <thead>\n",
       "    <tr style=\"text-align: right;\">\n",
       "      <th></th>\n",
       "      <th>date</th>\n",
       "      <th>state</th>\n",
       "      <th>city</th>\n",
       "      <th>new_confirmed</th>\n",
       "      <th>new_deaths</th>\n",
       "      <th>estimated_population_2019</th>\n",
       "    </tr>\n",
       "  </thead>\n",
       "  <tbody>\n",
       "    <tr>\n",
       "      <th>223214</th>\n",
       "      <td>2020-04-17</td>\n",
       "      <td>PR</td>\n",
       "      <td>Jataizinho</td>\n",
       "      <td>0</td>\n",
       "      <td>0</td>\n",
       "      <td>12588.0</td>\n",
       "    </tr>\n",
       "    <tr>\n",
       "      <th>164641</th>\n",
       "      <td>2020-05-14</td>\n",
       "      <td>SP</td>\n",
       "      <td>Cosmorama</td>\n",
       "      <td>0</td>\n",
       "      <td>0</td>\n",
       "      <td>7307.0</td>\n",
       "    </tr>\n",
       "    <tr>\n",
       "      <th>179337</th>\n",
       "      <td>2020-05-09</td>\n",
       "      <td>SC</td>\n",
       "      <td>Sangão</td>\n",
       "      <td>0</td>\n",
       "      <td>0</td>\n",
       "      <td>12678.0</td>\n",
       "    </tr>\n",
       "    <tr>\n",
       "      <th>37734</th>\n",
       "      <td>2020-06-14</td>\n",
       "      <td>SC</td>\n",
       "      <td>Gravatal</td>\n",
       "      <td>0</td>\n",
       "      <td>0</td>\n",
       "      <td>11501.0</td>\n",
       "    </tr>\n",
       "    <tr>\n",
       "      <th>188020</th>\n",
       "      <td>2020-05-05</td>\n",
       "      <td>AM</td>\n",
       "      <td>Itapiranga</td>\n",
       "      <td>0</td>\n",
       "      <td>0</td>\n",
       "      <td>9148.0</td>\n",
       "    </tr>\n",
       "    <tr>\n",
       "      <th>3139</th>\n",
       "      <td>2020-06-21</td>\n",
       "      <td>PR</td>\n",
       "      <td>Tijucas do Sul</td>\n",
       "      <td>0</td>\n",
       "      <td>0</td>\n",
       "      <td>16868.0</td>\n",
       "    </tr>\n",
       "    <tr>\n",
       "      <th>68783</th>\n",
       "      <td>2020-06-07</td>\n",
       "      <td>PB</td>\n",
       "      <td>Serra Grande</td>\n",
       "      <td>0</td>\n",
       "      <td>0</td>\n",
       "      <td>2909.0</td>\n",
       "    </tr>\n",
       "    <tr>\n",
       "      <th>220013</th>\n",
       "      <td>2020-04-19</td>\n",
       "      <td>ES</td>\n",
       "      <td>São Mateus</td>\n",
       "      <td>0</td>\n",
       "      <td>0</td>\n",
       "      <td>130611.0</td>\n",
       "    </tr>\n",
       "    <tr>\n",
       "      <th>126041</th>\n",
       "      <td>2020-05-25</td>\n",
       "      <td>TO</td>\n",
       "      <td>Cachoeirinha</td>\n",
       "      <td>1</td>\n",
       "      <td>0</td>\n",
       "      <td>2275.0</td>\n",
       "    </tr>\n",
       "    <tr>\n",
       "      <th>109810</th>\n",
       "      <td>2020-05-29</td>\n",
       "      <td>SP</td>\n",
       "      <td>Porto Ferreira</td>\n",
       "      <td>3</td>\n",
       "      <td>0</td>\n",
       "      <td>56150.0</td>\n",
       "    </tr>\n",
       "  </tbody>\n",
       "</table>\n",
       "</div>"
      ],
      "text/plain": [
       "              date state            city  new_confirmed  new_deaths  \\\n",
       "223214  2020-04-17    PR      Jataizinho              0           0   \n",
       "164641  2020-05-14    SP       Cosmorama              0           0   \n",
       "179337  2020-05-09    SC          Sangão              0           0   \n",
       "37734   2020-06-14    SC        Gravatal              0           0   \n",
       "188020  2020-05-05    AM      Itapiranga              0           0   \n",
       "3139    2020-06-21    PR  Tijucas do Sul              0           0   \n",
       "68783   2020-06-07    PB    Serra Grande              0           0   \n",
       "220013  2020-04-19    ES      São Mateus              0           0   \n",
       "126041  2020-05-25    TO    Cachoeirinha              1           0   \n",
       "109810  2020-05-29    SP  Porto Ferreira              3           0   \n",
       "\n",
       "        estimated_population_2019  \n",
       "223214                    12588.0  \n",
       "164641                     7307.0  \n",
       "179337                    12678.0  \n",
       "37734                     11501.0  \n",
       "188020                     9148.0  \n",
       "3139                      16868.0  \n",
       "68783                      2909.0  \n",
       "220013                   130611.0  \n",
       "126041                     2275.0  \n",
       "109810                    56150.0  "
      ]
     },
     "execution_count": 7,
     "metadata": {},
     "output_type": "execute_result"
    }
   ],
   "source": [
    "dataframe_questao_1.sample(10)"
   ]
  },
  {
   "cell_type": "code",
   "execution_count": 9,
   "metadata": {},
   "outputs": [
    {
     "data": {
      "text/html": [
       "<div>\n",
       "<style scoped>\n",
       "    .dataframe tbody tr th:only-of-type {\n",
       "        vertical-align: middle;\n",
       "    }\n",
       "\n",
       "    .dataframe tbody tr th {\n",
       "        vertical-align: top;\n",
       "    }\n",
       "\n",
       "    .dataframe thead th {\n",
       "        text-align: right;\n",
       "    }\n",
       "</style>\n",
       "<table border=\"1\" class=\"dataframe\">\n",
       "  <thead>\n",
       "    <tr style=\"text-align: right;\">\n",
       "      <th></th>\n",
       "      <th>date</th>\n",
       "      <th>state</th>\n",
       "      <th>city</th>\n",
       "      <th>new_confirmed</th>\n",
       "      <th>new_deaths</th>\n",
       "      <th>estimated_population_2019</th>\n",
       "    </tr>\n",
       "  </thead>\n",
       "  <tbody>\n",
       "    <tr>\n",
       "      <th>240644</th>\n",
       "      <td>2020-02-29</td>\n",
       "      <td>SP</td>\n",
       "      <td>São Paulo</td>\n",
       "      <td>0</td>\n",
       "      <td>0</td>\n",
       "      <td>12252023.0</td>\n",
       "    </tr>\n",
       "    <tr>\n",
       "      <th>240645</th>\n",
       "      <td>2020-02-28</td>\n",
       "      <td>SP</td>\n",
       "      <td>São Paulo</td>\n",
       "      <td>1</td>\n",
       "      <td>0</td>\n",
       "      <td>12252023.0</td>\n",
       "    </tr>\n",
       "    <tr>\n",
       "      <th>240646</th>\n",
       "      <td>2020-02-27</td>\n",
       "      <td>SP</td>\n",
       "      <td>São Paulo</td>\n",
       "      <td>0</td>\n",
       "      <td>0</td>\n",
       "      <td>12252023.0</td>\n",
       "    </tr>\n",
       "    <tr>\n",
       "      <th>240647</th>\n",
       "      <td>2020-02-26</td>\n",
       "      <td>SP</td>\n",
       "      <td>São Paulo</td>\n",
       "      <td>0</td>\n",
       "      <td>0</td>\n",
       "      <td>12252023.0</td>\n",
       "    </tr>\n",
       "    <tr>\n",
       "      <th>240648</th>\n",
       "      <td>2020-02-25</td>\n",
       "      <td>SP</td>\n",
       "      <td>São Paulo</td>\n",
       "      <td>1</td>\n",
       "      <td>0</td>\n",
       "      <td>12252023.0</td>\n",
       "    </tr>\n",
       "  </tbody>\n",
       "</table>\n",
       "</div>"
      ],
      "text/plain": [
       "              date state       city  new_confirmed  new_deaths  \\\n",
       "240644  2020-02-29    SP  São Paulo              0           0   \n",
       "240645  2020-02-28    SP  São Paulo              1           0   \n",
       "240646  2020-02-27    SP  São Paulo              0           0   \n",
       "240647  2020-02-26    SP  São Paulo              0           0   \n",
       "240648  2020-02-25    SP  São Paulo              1           0   \n",
       "\n",
       "        estimated_population_2019  \n",
       "240644                 12252023.0  \n",
       "240645                 12252023.0  \n",
       "240646                 12252023.0  \n",
       "240647                 12252023.0  \n",
       "240648                 12252023.0  "
      ]
     },
     "execution_count": 9,
     "metadata": {},
     "output_type": "execute_result"
    }
   ],
   "source": [
    "dataframe_questao_1.tail()"
   ]
  },
  {
   "cell_type": "code",
   "execution_count": 10,
   "metadata": {},
   "outputs": [
    {
     "name": "stdout",
     "output_type": "stream",
     "text": [
      "<class 'pandas.core.frame.DataFrame'>\n",
      "RangeIndex: 240649 entries, 0 to 240648\n",
      "Data columns (total 6 columns):\n",
      " #   Column                     Non-Null Count   Dtype  \n",
      "---  ------                     --------------   -----  \n",
      " 0   date                       240649 non-null  object \n",
      " 1   state                      240649 non-null  object \n",
      " 2   city                       240649 non-null  object \n",
      " 3   new_confirmed              240649 non-null  int64  \n",
      " 4   new_deaths                 240649 non-null  int64  \n",
      " 5   estimated_population_2019  239206 non-null  float64\n",
      "dtypes: float64(1), int64(2), object(3)\n",
      "memory usage: 11.0+ MB\n"
     ]
    }
   ],
   "source": [
    "dataframe_questao_1.info()"
   ]
  },
  {
   "cell_type": "code",
   "execution_count": 38,
   "metadata": {},
   "outputs": [
    {
     "data": {
      "text/plain": [
       "(239206, 6)"
      ]
     },
     "execution_count": 38,
     "metadata": {},
     "output_type": "execute_result"
    }
   ],
   "source": [
    "dataframe_questao_1.shape"
   ]
  },
  {
   "cell_type": "code",
   "execution_count": 39,
   "metadata": {
    "scrolled": true
   },
   "outputs": [],
   "source": [
    "#dataframe_questao_1[dataframe_questao_1[\"estimated_population_2019\"].isnull()][\"city\"].unique()"
   ]
  },
  {
   "cell_type": "code",
   "execution_count": 15,
   "metadata": {},
   "outputs": [],
   "source": [
    "dataframe_questao_1.dropna(inplace=True)"
   ]
  },
  {
   "cell_type": "code",
   "execution_count": 16,
   "metadata": {},
   "outputs": [
    {
     "name": "stdout",
     "output_type": "stream",
     "text": [
      "<class 'pandas.core.frame.DataFrame'>\n",
      "Int64Index: 239206 entries, 0 to 240648\n",
      "Data columns (total 6 columns):\n",
      " #   Column                     Non-Null Count   Dtype  \n",
      "---  ------                     --------------   -----  \n",
      " 0   date                       239206 non-null  object \n",
      " 1   state                      239206 non-null  object \n",
      " 2   city                       239206 non-null  object \n",
      " 3   new_confirmed              239206 non-null  int64  \n",
      " 4   new_deaths                 239206 non-null  int64  \n",
      " 5   estimated_population_2019  239206 non-null  float64\n",
      "dtypes: float64(1), int64(2), object(3)\n",
      "memory usage: 12.8+ MB\n"
     ]
    }
   ],
   "source": [
    "dataframe_questao_1.info()"
   ]
  },
  {
   "cell_type": "code",
   "execution_count": 23,
   "metadata": {},
   "outputs": [
    {
     "data": {
      "text/plain": [
       "array([   -1,    -3,    -2, -1269,   -31,   -11,    -6,    -8,    -4,\n",
       "         -35,   -12,   -10,    -9,   -23,   -14,   -24,   -18,   -38,\n",
       "         -41,   -13,   -25,    -5,   -15,   -21,   -17,    -7,   -20,\n",
       "         -28,   -29,   -26,   -95,  -142,   -39,   -33,   -37,   -32,\n",
       "         -36,   -42,   -40,   -43,   -49,   -70,   -50,   -69,   -46,\n",
       "         -34,   -19,  -160,   -54,   -48,   -45,  -739,   -89,   -91,\n",
       "        -188,  -101, -4289,   -27,  -130,  -241,  -302,   -52,   -82,\n",
       "         -60,   -67,  -115,   -22,   -51,   -58,  -349, -1203,   -77,\n",
       "        -414,   -73,   -16,   -56, -1081,   -64,  -385,   -61,   -72,\n",
       "         -71,   -94,  -415])"
      ]
     },
     "execution_count": 23,
     "metadata": {},
     "output_type": "execute_result"
    }
   ],
   "source": [
    "dataframe_questao_1[dataframe_questao_1[\"new_confirmed\"]<0][\"new_confirmed\"].unique()"
   ]
  },
  {
   "cell_type": "code",
   "execution_count": 24,
   "metadata": {},
   "outputs": [
    {
     "data": {
      "text/plain": [
       "array([  -8,   -1,   -4,   -2,   -3,  -11, -131,  -12,   -5,   -6])"
      ]
     },
     "execution_count": 24,
     "metadata": {},
     "output_type": "execute_result"
    }
   ],
   "source": [
    "dataframe_questao_1[dataframe_questao_1[\"new_deaths\"]<0][\"new_deaths\"].unique()"
   ]
  },
  {
   "cell_type": "code",
   "execution_count": 25,
   "metadata": {},
   "outputs": [
    {
     "data": {
      "text/plain": [
       "(3894,)"
      ]
     },
     "execution_count": 25,
     "metadata": {},
     "output_type": "execute_result"
    }
   ],
   "source": [
    "dataframe_questao_1[dataframe_questao_1[\"new_confirmed\"]<0][\"new_confirmed\"].shape"
   ]
  },
  {
   "cell_type": "code",
   "execution_count": 26,
   "metadata": {},
   "outputs": [
    {
     "data": {
      "text/plain": [
       "(400,)"
      ]
     },
     "execution_count": 26,
     "metadata": {},
     "output_type": "execute_result"
    }
   ],
   "source": [
    "dataframe_questao_1[dataframe_questao_1[\"new_deaths\"]<0][\"new_deaths\"].shape"
   ]
  },
  {
   "cell_type": "code",
   "execution_count": 27,
   "metadata": {},
   "outputs": [
    {
     "data": {
      "text/plain": [
       "array([   4,    5,    9,   13,   80,    3,   69,    1,    8,    2,   39,\n",
       "        424,   26,   55,   30,   54,   10,   27,   43,   12,   11,   15,\n",
       "         21,    7,   32,  125,   28,   38,   29,   20,   24,   65,   57,\n",
       "         23,    6,   17,   22,   51,   16,   48,  364,   46,   14,   60,\n",
       "         35,   88,   19,   40,   52,   68,  101,  150,  336,   41,   91,\n",
       "         25,  199,   36,   47,   82,  152,   50,  157,  100,  219,   61,\n",
       "        131,   31,   45,   56,   64,   18,   49,  234,   62,  301,   42,\n",
       "        134,  105,  278,   58,   37,  142,   63,   76,   98,  133,  255,\n",
       "         87,   44,  949,   86,  106,   78,  139,   59,  397,   33, 1088,\n",
       "        320,  112,  137,  892,   77,  140,   90,  263,  111,   34,  102,\n",
       "       1269,   94,  166,  156,  120,  699,  114,  113,  186,   85,   53,\n",
       "         75,  161,   72,  160,  237,  175,  404,  121,   67,  718,  256,\n",
       "       1418,   70,  178,   96,  151,   97,  162,  187,  173,  128, 1376,\n",
       "         81,   73,  358,  293,  103,  190,  129,  165,  243,   89,  184,\n",
       "        116,   99,  346,   95,  427,  179,  227,   83,  305,  130, 2179,\n",
       "        124,  141,  192,  181,  154,  201,   79,   66,  174,  195,   92,\n",
       "        257,  252,  117,  488,  109,   74,  171,  384,  193,  115,  135,\n",
       "        185,  217,   93,  376,  164, 2498,  491,  316,  276,   71,  163,\n",
       "        149,  797,  210,  275,  406,  340,  462,  366,  226,  348,  367,\n",
       "        578,  664,  265,  312, 6877,  272,  267,  168,  385,  233, 1190,\n",
       "        110,  394,  407,  370,  292,  119,  108,  158,  138,  381,  232,\n",
       "        634,  229,  183,  277,  329,  398,  132,  319,  477,  369,  731,\n",
       "        855, 1624,  172,  143,  220,  224,  127,  271,  247,  177,  122,\n",
       "        107, 2104,  333,  245,  456,  310,  474,  645,  637,  248,  123,\n",
       "       1177,  182,  223,  629,   84,  222,  148,  453,  215,  423,  253,\n",
       "       1489,  153,  698,  170,  373,  188,  230, 4228,  665,  437,  697,\n",
       "        225, 1372,  200,  208,  431,  204,  617,  417, 1194, 2250,  328,\n",
       "        504,  207,  216,  824,  203,  167,  357,  712, 3173,  331,  259,\n",
       "        402,  104,  660,  505,  509,  231,  126,  169,  236,  907,  212,\n",
       "        788, 2403,  502,  321,  793,  238,  197,  422,  194,  772,  211,\n",
       "        416,  261,  487,  118,  528,  371,  308,  136, 2546,  345,  555,\n",
       "        144,  921,  264,  283,  228, 1057, 1071,  180,  155, 2619,  554,\n",
       "        334,  975, 1199,  372,  159,  297,  254,  322,  244,  602, 2431,\n",
       "        326,  657, 1175,  661,  146, 1038,  302,  355,  274,  374,  361,\n",
       "        382,  317,  337, 1010,  218,  221, 2327,  478,  291,  415,  242,\n",
       "        778,  285,  205,  903,  377,  318,  685,  214,  412,  249,  525,\n",
       "        213,  935,  621,  363,  518,  246,  145, 1466,  542, 2408,  880,\n",
       "       4448,  401,  460, 1428,  560, 1166,  701,  260,  270, 1348,  202,\n",
       "        295, 2106,  352,  919,  359,  467,  268,  817,  307,  499,  273,\n",
       "        315,  744,  426,  572, 2570,  435,  428,  707,  191,  327,  344,\n",
       "        353, 1747, 2334,  614, 1419,  196, 1240,  688,  803,  386,  287,\n",
       "       3317,  206,  679,  294,  857,  995,  784,  235,  269,  147,  309,\n",
       "        676, 1512,  647,  646, 1673,  390,  332,  937,  189,  303,  313,\n",
       "       1170, 2878, 1723,  479,  387,  454, 1337, 3022,  969,  610,  485,\n",
       "        389,  511,  281,  681,  240,  279,  601, 1224,  198, 3455,  399,\n",
       "       1460, 1710,  643,  530,  258, 1350, 1264,  419,  351,  691,  677,\n",
       "       1203,  414,  241,  587,  439,  732,  640,  908,  282,  600,  882,\n",
       "       1914,  650,  626,  288,  380,  429,  673,  939, 1522,  251,  674,\n",
       "       1549,  469, 1677, 1985,  592, 1226,  878,  304,  493, 2535, 1826,\n",
       "        391,  615,  514, 1452,  798,  780,  522,  209,  335,  584,  472,\n",
       "       1061,  580, 1437,  913,  536,  451, 2119,  740,  443,  339, 1471,\n",
       "        753,  553,  280, 1720,  613,  549,  393,  911,  379,  464,  455,\n",
       "        561,  342,  403,  520,  709,  519,  266,  806,  807, 1420, 1094,\n",
       "        608,  176,  968, 1086,  670,  552,  465,  745, 2047,  311, 1067,\n",
       "       1781,  533,  432,  286,  938,  239, 1511, 1241, 1408,  763,  476,\n",
       "        450,  946, 1298,  575,  534,  349,  527,  262,  684,  836, 1059,\n",
       "        689,  652])"
      ]
     },
     "execution_count": 27,
     "metadata": {},
     "output_type": "execute_result"
    }
   ],
   "source": [
    "dataframe_questao_1[dataframe_questao_1[\"new_confirmed\"]>0][\"new_confirmed\"].unique()"
   ]
  },
  {
   "cell_type": "code",
   "execution_count": 28,
   "metadata": {},
   "outputs": [],
   "source": [
    "teste = pd.read_csv(\"bases/caso_full.csv\")"
   ]
  },
  {
   "cell_type": "code",
   "execution_count": 36,
   "metadata": {},
   "outputs": [
    {
     "data": {
      "text/plain": [
       "array([ -1,  -6,  -2, -10,  -4, -58,  -3, -82, -22, -17, -11, -38, -59,\n",
       "        -5,  -7])"
      ]
     },
     "execution_count": 36,
     "metadata": {},
     "output_type": "execute_result"
    }
   ],
   "source": [
    "teste[teste[\"new_deaths\"]<0][\"new_deaths\"].unique()"
   ]
  },
  {
   "cell_type": "code",
   "execution_count": 32,
   "metadata": {},
   "outputs": [
    {
     "data": {
      "text/html": [
       "<div>\n",
       "<style scoped>\n",
       "    .dataframe tbody tr th:only-of-type {\n",
       "        vertical-align: middle;\n",
       "    }\n",
       "\n",
       "    .dataframe tbody tr th {\n",
       "        vertical-align: top;\n",
       "    }\n",
       "\n",
       "    .dataframe thead th {\n",
       "        text-align: right;\n",
       "    }\n",
       "</style>\n",
       "<table border=\"1\" class=\"dataframe\">\n",
       "  <thead>\n",
       "    <tr style=\"text-align: right;\">\n",
       "      <th></th>\n",
       "      <th>city_ibge_code</th>\n",
       "      <th>epidemiological_week</th>\n",
       "      <th>estimated_population_2019</th>\n",
       "      <th>last_available_confirmed</th>\n",
       "      <th>last_available_confirmed_per_100k_inhabitants</th>\n",
       "      <th>last_available_death_rate</th>\n",
       "      <th>last_available_deaths</th>\n",
       "      <th>order_for_place</th>\n",
       "      <th>new_confirmed</th>\n",
       "      <th>new_deaths</th>\n",
       "    </tr>\n",
       "  </thead>\n",
       "  <tbody>\n",
       "    <tr>\n",
       "      <th>count</th>\n",
       "      <td>4.908490e+05</td>\n",
       "      <td>493133.000000</td>\n",
       "      <td>4.908490e+05</td>\n",
       "      <td>493133.000000</td>\n",
       "      <td>479707.000000</td>\n",
       "      <td>493133.000000</td>\n",
       "      <td>493133.000000</td>\n",
       "      <td>493133.000000</td>\n",
       "      <td>493133.000000</td>\n",
       "      <td>493133.000000</td>\n",
       "    </tr>\n",
       "    <tr>\n",
       "      <th>mean</th>\n",
       "      <td>3.165190e+06</td>\n",
       "      <td>25.185396</td>\n",
       "      <td>1.180477e+05</td>\n",
       "      <td>474.369850</td>\n",
       "      <td>414.977244</td>\n",
       "      <td>0.044980</td>\n",
       "      <td>19.812726</td>\n",
       "      <td>49.710816</td>\n",
       "      <td>11.602482</td>\n",
       "      <td>0.394906</td>\n",
       "    </tr>\n",
       "    <tr>\n",
       "      <th>std</th>\n",
       "      <td>1.020317e+06</td>\n",
       "      <td>4.600946</td>\n",
       "      <td>1.147501e+06</td>\n",
       "      <td>6048.395477</td>\n",
       "      <td>722.691372</td>\n",
       "      <td>0.123945</td>\n",
       "      <td>303.540061</td>\n",
       "      <td>32.125735</td>\n",
       "      <td>143.146758</td>\n",
       "      <td>5.491360</td>\n",
       "    </tr>\n",
       "    <tr>\n",
       "      <th>min</th>\n",
       "      <td>1.100000e+01</td>\n",
       "      <td>9.000000</td>\n",
       "      <td>7.810000e+02</td>\n",
       "      <td>0.000000</td>\n",
       "      <td>0.002180</td>\n",
       "      <td>0.000000</td>\n",
       "      <td>0.000000</td>\n",
       "      <td>1.000000</td>\n",
       "      <td>-1578.000000</td>\n",
       "      <td>-82.000000</td>\n",
       "    </tr>\n",
       "    <tr>\n",
       "      <th>25%</th>\n",
       "      <td>2.414605e+06</td>\n",
       "      <td>22.000000</td>\n",
       "      <td>6.936000e+03</td>\n",
       "      <td>4.000000</td>\n",
       "      <td>33.621520</td>\n",
       "      <td>0.000000</td>\n",
       "      <td>0.000000</td>\n",
       "      <td>23.000000</td>\n",
       "      <td>0.000000</td>\n",
       "      <td>0.000000</td>\n",
       "    </tr>\n",
       "    <tr>\n",
       "      <th>50%</th>\n",
       "      <td>3.137007e+06</td>\n",
       "      <td>26.000000</td>\n",
       "      <td>1.533600e+04</td>\n",
       "      <td>18.000000</td>\n",
       "      <td>144.503580</td>\n",
       "      <td>0.000000</td>\n",
       "      <td>0.000000</td>\n",
       "      <td>46.000000</td>\n",
       "      <td>0.000000</td>\n",
       "      <td>0.000000</td>\n",
       "    </tr>\n",
       "    <tr>\n",
       "      <th>75%</th>\n",
       "      <td>4.108700e+06</td>\n",
       "      <td>29.000000</td>\n",
       "      <td>3.421300e+04</td>\n",
       "      <td>92.000000</td>\n",
       "      <td>490.876110</td>\n",
       "      <td>0.039100</td>\n",
       "      <td>2.000000</td>\n",
       "      <td>73.000000</td>\n",
       "      <td>2.000000</td>\n",
       "      <td>0.000000</td>\n",
       "    </tr>\n",
       "    <tr>\n",
       "      <th>max</th>\n",
       "      <td>5.300108e+06</td>\n",
       "      <td>32.000000</td>\n",
       "      <td>4.591905e+07</td>\n",
       "      <td>585265.000000</td>\n",
       "      <td>15730.064330</td>\n",
       "      <td>1.000000</td>\n",
       "      <td>24109.000000</td>\n",
       "      <td>164.000000</td>\n",
       "      <td>19030.000000</td>\n",
       "      <td>434.000000</td>\n",
       "    </tr>\n",
       "  </tbody>\n",
       "</table>\n",
       "</div>"
      ],
      "text/plain": [
       "       city_ibge_code  epidemiological_week  estimated_population_2019  \\\n",
       "count    4.908490e+05         493133.000000               4.908490e+05   \n",
       "mean     3.165190e+06             25.185396               1.180477e+05   \n",
       "std      1.020317e+06              4.600946               1.147501e+06   \n",
       "min      1.100000e+01              9.000000               7.810000e+02   \n",
       "25%      2.414605e+06             22.000000               6.936000e+03   \n",
       "50%      3.137007e+06             26.000000               1.533600e+04   \n",
       "75%      4.108700e+06             29.000000               3.421300e+04   \n",
       "max      5.300108e+06             32.000000               4.591905e+07   \n",
       "\n",
       "       last_available_confirmed  \\\n",
       "count             493133.000000   \n",
       "mean                 474.369850   \n",
       "std                 6048.395477   \n",
       "min                    0.000000   \n",
       "25%                    4.000000   \n",
       "50%                   18.000000   \n",
       "75%                   92.000000   \n",
       "max               585265.000000   \n",
       "\n",
       "       last_available_confirmed_per_100k_inhabitants  \\\n",
       "count                                  479707.000000   \n",
       "mean                                      414.977244   \n",
       "std                                       722.691372   \n",
       "min                                         0.002180   \n",
       "25%                                        33.621520   \n",
       "50%                                       144.503580   \n",
       "75%                                       490.876110   \n",
       "max                                     15730.064330   \n",
       "\n",
       "       last_available_death_rate  last_available_deaths  order_for_place  \\\n",
       "count              493133.000000          493133.000000    493133.000000   \n",
       "mean                    0.044980              19.812726        49.710816   \n",
       "std                     0.123945             303.540061        32.125735   \n",
       "min                     0.000000               0.000000         1.000000   \n",
       "25%                     0.000000               0.000000        23.000000   \n",
       "50%                     0.000000               0.000000        46.000000   \n",
       "75%                     0.039100               2.000000        73.000000   \n",
       "max                     1.000000           24109.000000       164.000000   \n",
       "\n",
       "       new_confirmed     new_deaths  \n",
       "count  493133.000000  493133.000000  \n",
       "mean       11.602482       0.394906  \n",
       "std       143.146758       5.491360  \n",
       "min     -1578.000000     -82.000000  \n",
       "25%         0.000000       0.000000  \n",
       "50%         0.000000       0.000000  \n",
       "75%         2.000000       0.000000  \n",
       "max     19030.000000     434.000000  "
      ]
     },
     "execution_count": 32,
     "metadata": {},
     "output_type": "execute_result"
    }
   ],
   "source": [
    "teste.describe()"
   ]
  },
  {
   "cell_type": "code",
   "execution_count": 37,
   "metadata": {},
   "outputs": [
    {
     "data": {
      "text/plain": [
       "(493133, 17)"
      ]
     },
     "execution_count": 37,
     "metadata": {},
     "output_type": "execute_result"
    }
   ],
   "source": [
    "teste.shape"
   ]
  },
  {
   "cell_type": "code",
   "execution_count": null,
   "metadata": {},
   "outputs": [],
   "source": []
  }
 ],
 "metadata": {
  "kernelspec": {
   "display_name": "Python 3",
   "language": "python",
   "name": "python3"
  },
  "language_info": {
   "codemirror_mode": {
    "name": "ipython",
    "version": 3
   },
   "file_extension": ".py",
   "mimetype": "text/x-python",
   "name": "python",
   "nbconvert_exporter": "python",
   "pygments_lexer": "ipython3",
   "version": "3.7.3"
  }
 },
 "nbformat": 4,
 "nbformat_minor": 2
}
