{
 "cells": [
  {
   "cell_type": "code",
   "execution_count": 1,
   "metadata": {},
   "outputs": [],
   "source": [
    "import pandas as pd"
   ]
  },
  {
   "cell_type": "code",
   "execution_count": 2,
   "metadata": {},
   "outputs": [],
   "source": [
    "dataframe_questao_1 = pd.read_csv(\"bases/questao1_coronavirus.csv\", delimiter=\";\")"
   ]
  },
  {
   "cell_type": "code",
   "execution_count": 3,
   "metadata": {
    "scrolled": true
   },
   "outputs": [
    {
     "data": {
      "text/html": [
       "<div>\n",
       "<style scoped>\n",
       "    .dataframe tbody tr th:only-of-type {\n",
       "        vertical-align: middle;\n",
       "    }\n",
       "\n",
       "    .dataframe tbody tr th {\n",
       "        vertical-align: top;\n",
       "    }\n",
       "\n",
       "    .dataframe thead th {\n",
       "        text-align: right;\n",
       "    }\n",
       "</style>\n",
       "<table border=\"1\" class=\"dataframe\">\n",
       "  <thead>\n",
       "    <tr style=\"text-align: right;\">\n",
       "      <th></th>\n",
       "      <th>date</th>\n",
       "      <th>state</th>\n",
       "      <th>city</th>\n",
       "      <th>new_confirmed</th>\n",
       "      <th>new_deaths</th>\n",
       "      <th>estimated_population_2019</th>\n",
       "    </tr>\n",
       "  </thead>\n",
       "  <tbody>\n",
       "    <tr>\n",
       "      <th>224631</th>\n",
       "      <td>2020-04-16</td>\n",
       "      <td>RO</td>\n",
       "      <td>Jaru</td>\n",
       "      <td>0</td>\n",
       "      <td>0</td>\n",
       "      <td>51775.0</td>\n",
       "    </tr>\n",
       "    <tr>\n",
       "      <th>116984</th>\n",
       "      <td>2020-05-27</td>\n",
       "      <td>RO</td>\n",
       "      <td>Presidente Médici</td>\n",
       "      <td>0</td>\n",
       "      <td>0</td>\n",
       "      <td>18986.0</td>\n",
       "    </tr>\n",
       "    <tr>\n",
       "      <th>208808</th>\n",
       "      <td>2020-04-26</td>\n",
       "      <td>MS</td>\n",
       "      <td>Selvíria</td>\n",
       "      <td>0</td>\n",
       "      <td>0</td>\n",
       "      <td>6529.0</td>\n",
       "    </tr>\n",
       "    <tr>\n",
       "      <th>27924</th>\n",
       "      <td>2020-06-16</td>\n",
       "      <td>RS</td>\n",
       "      <td>Formigueiro</td>\n",
       "      <td>1</td>\n",
       "      <td>0</td>\n",
       "      <td>6664.0</td>\n",
       "    </tr>\n",
       "    <tr>\n",
       "      <th>81222</th>\n",
       "      <td>2020-06-04</td>\n",
       "      <td>MA</td>\n",
       "      <td>São Domingos do Maranhão</td>\n",
       "      <td>0</td>\n",
       "      <td>0</td>\n",
       "      <td>34376.0</td>\n",
       "    </tr>\n",
       "    <tr>\n",
       "      <th>199590</th>\n",
       "      <td>2020-05-01</td>\n",
       "      <td>SP</td>\n",
       "      <td>Ibirá</td>\n",
       "      <td>0</td>\n",
       "      <td>0</td>\n",
       "      <td>12393.0</td>\n",
       "    </tr>\n",
       "    <tr>\n",
       "      <th>58323</th>\n",
       "      <td>2020-06-09</td>\n",
       "      <td>GO</td>\n",
       "      <td>Hidrolina</td>\n",
       "      <td>0</td>\n",
       "      <td>0</td>\n",
       "      <td>3564.0</td>\n",
       "    </tr>\n",
       "    <tr>\n",
       "      <th>36076</th>\n",
       "      <td>2020-06-14</td>\n",
       "      <td>PA</td>\n",
       "      <td>São João de Pirabas</td>\n",
       "      <td>0</td>\n",
       "      <td>0</td>\n",
       "      <td>23045.0</td>\n",
       "    </tr>\n",
       "    <tr>\n",
       "      <th>158774</th>\n",
       "      <td>2020-05-15</td>\n",
       "      <td>BA</td>\n",
       "      <td>Arataca</td>\n",
       "      <td>2</td>\n",
       "      <td>0</td>\n",
       "      <td>11019.0</td>\n",
       "    </tr>\n",
       "    <tr>\n",
       "      <th>97126</th>\n",
       "      <td>2020-06-01</td>\n",
       "      <td>SP</td>\n",
       "      <td>Pardinho</td>\n",
       "      <td>0</td>\n",
       "      <td>0</td>\n",
       "      <td>6435.0</td>\n",
       "    </tr>\n",
       "  </tbody>\n",
       "</table>\n",
       "</div>"
      ],
      "text/plain": [
       "              date state                      city  new_confirmed  new_deaths  \\\n",
       "224631  2020-04-16    RO                      Jaru              0           0   \n",
       "116984  2020-05-27    RO         Presidente Médici              0           0   \n",
       "208808  2020-04-26    MS                  Selvíria              0           0   \n",
       "27924   2020-06-16    RS               Formigueiro              1           0   \n",
       "81222   2020-06-04    MA  São Domingos do Maranhão              0           0   \n",
       "199590  2020-05-01    SP                     Ibirá              0           0   \n",
       "58323   2020-06-09    GO                 Hidrolina              0           0   \n",
       "36076   2020-06-14    PA       São João de Pirabas              0           0   \n",
       "158774  2020-05-15    BA                   Arataca              2           0   \n",
       "97126   2020-06-01    SP                  Pardinho              0           0   \n",
       "\n",
       "        estimated_population_2019  \n",
       "224631                    51775.0  \n",
       "116984                    18986.0  \n",
       "208808                     6529.0  \n",
       "27924                      6664.0  \n",
       "81222                     34376.0  \n",
       "199590                    12393.0  \n",
       "58323                      3564.0  \n",
       "36076                     23045.0  \n",
       "158774                    11019.0  \n",
       "97126                      6435.0  "
      ]
     },
     "execution_count": 3,
     "metadata": {},
     "output_type": "execute_result"
    }
   ],
   "source": [
    "dataframe_questao_1.sample(10)"
   ]
  },
  {
   "cell_type": "code",
   "execution_count": 44,
   "metadata": {},
   "outputs": [
    {
     "data": {
      "text/plain": [
       "(240649, 6)"
      ]
     },
     "execution_count": 44,
     "metadata": {},
     "output_type": "execute_result"
    }
   ],
   "source": [
    "dataframe_questao_1.shape"
   ]
  },
  {
   "cell_type": "markdown",
   "metadata": {},
   "source": [
    "Usaremos como base de informação o site \n",
    "https://brasil.io/dataset/covid19/boletim/\n",
    "que tem a siguinte documentação:\n",
    "\n",
    "date: data de coleta dos dados no formato YYYY-MM-DD.\n",
    "\n",
    "state: sigla da unidade federativa, exemplo: SP.\n",
    "\n",
    "city: nome do município (pode estar em branco quando o registro é referente ao estado, pode ser preenchido com Importados/Indefinidos também).\n",
    "\n",
    "new_confirmed: número de novos casos confirmados desde o último dia (note que caso is_repeated seja True, esse valor sempre será 0 e que esse valor pode ser negativo caso a SES remaneje os casos desse município para outro).\n",
    "\n",
    "new_deaths: número de novos óbitos desde o último dia (note que caso is_repeated seja True, esse valor sempre será 0 e que esse valor pode ser negativo caso a SES remaneje os casos desse município para outro).\n",
    "\n",
    "estimated_population_2019: população estimada para esse município/estado em 2019, segundo o IBGE (acesse o script que faz o download e conversão dos dados de população)."
   ]
  },
  {
   "cell_type": "code",
   "execution_count": 183,
   "metadata": {
    "scrolled": true
   },
   "outputs": [],
   "source": [
    "def estado(valor):\n",
    "    estados = dataframe_questao_1.drop(\"city\", 1)\n",
    "    df_estado = estados.loc[estados.state==valor, :]\n",
    "    df_estado = df_estado.groupby('date').sum()\n",
    "    df_estado[['new_confirmed','new_deaths']] = df_estado[['new_confirmed','new_deaths']].cumsum()\n",
    "    return df_estado"
   ]
  },
  {
   "cell_type": "code",
   "execution_count": 184,
   "metadata": {},
   "outputs": [
    {
     "data": {
      "text/html": [
       "<div>\n",
       "<style scoped>\n",
       "    .dataframe tbody tr th:only-of-type {\n",
       "        vertical-align: middle;\n",
       "    }\n",
       "\n",
       "    .dataframe tbody tr th {\n",
       "        vertical-align: top;\n",
       "    }\n",
       "\n",
       "    .dataframe thead th {\n",
       "        text-align: right;\n",
       "    }\n",
       "</style>\n",
       "<table border=\"1\" class=\"dataframe\">\n",
       "  <thead>\n",
       "    <tr style=\"text-align: right;\">\n",
       "      <th></th>\n",
       "      <th>new_confirmed</th>\n",
       "      <th>new_deaths</th>\n",
       "      <th>estimated_population_2019</th>\n",
       "    </tr>\n",
       "    <tr>\n",
       "      <th>date</th>\n",
       "      <th></th>\n",
       "      <th></th>\n",
       "      <th></th>\n",
       "    </tr>\n",
       "  </thead>\n",
       "  <tbody>\n",
       "    <tr>\n",
       "      <th>2020-02-25</th>\n",
       "      <td>1</td>\n",
       "      <td>0</td>\n",
       "      <td>12252023.0</td>\n",
       "    </tr>\n",
       "    <tr>\n",
       "      <th>2020-02-26</th>\n",
       "      <td>1</td>\n",
       "      <td>0</td>\n",
       "      <td>12252023.0</td>\n",
       "    </tr>\n",
       "    <tr>\n",
       "      <th>2020-02-27</th>\n",
       "      <td>1</td>\n",
       "      <td>0</td>\n",
       "      <td>12252023.0</td>\n",
       "    </tr>\n",
       "    <tr>\n",
       "      <th>2020-02-28</th>\n",
       "      <td>2</td>\n",
       "      <td>0</td>\n",
       "      <td>12252023.0</td>\n",
       "    </tr>\n",
       "    <tr>\n",
       "      <th>2020-02-29</th>\n",
       "      <td>2</td>\n",
       "      <td>0</td>\n",
       "      <td>12252023.0</td>\n",
       "    </tr>\n",
       "  </tbody>\n",
       "</table>\n",
       "</div>"
      ],
      "text/plain": [
       "            new_confirmed  new_deaths  estimated_population_2019\n",
       "date                                                            \n",
       "2020-02-25              1           0                 12252023.0\n",
       "2020-02-26              1           0                 12252023.0\n",
       "2020-02-27              1           0                 12252023.0\n",
       "2020-02-28              2           0                 12252023.0\n",
       "2020-02-29              2           0                 12252023.0"
      ]
     },
     "execution_count": 184,
     "metadata": {},
     "output_type": "execute_result"
    }
   ],
   "source": [
    "teste = estado(\"SP\")\n",
    "teste.head()"
   ]
  },
  {
   "cell_type": "code",
   "execution_count": null,
   "metadata": {},
   "outputs": [],
   "source": []
  },
  {
   "cell_type": "code",
   "execution_count": 7,
   "metadata": {
    "scrolled": true
   },
   "outputs": [],
   "source": [
    "#dataframe_questao_1[dataframe_questao_1[\"estimated_population_2019\"].isnull()][\"city\"].unique()"
   ]
  },
  {
   "cell_type": "code",
   "execution_count": 8,
   "metadata": {},
   "outputs": [],
   "source": [
    "dataframe_questao_1.dropna(inplace=True)"
   ]
  },
  {
   "cell_type": "code",
   "execution_count": null,
   "metadata": {},
   "outputs": [],
   "source": []
  }
 ],
 "metadata": {
  "kernelspec": {
   "display_name": "Python 3",
   "language": "python",
   "name": "python3"
  },
  "language_info": {
   "codemirror_mode": {
    "name": "ipython",
    "version": 3
   },
   "file_extension": ".py",
   "mimetype": "text/x-python",
   "name": "python",
   "nbconvert_exporter": "python",
   "pygments_lexer": "ipython3",
   "version": "3.7.3"
  }
 },
 "nbformat": 4,
 "nbformat_minor": 2
}
