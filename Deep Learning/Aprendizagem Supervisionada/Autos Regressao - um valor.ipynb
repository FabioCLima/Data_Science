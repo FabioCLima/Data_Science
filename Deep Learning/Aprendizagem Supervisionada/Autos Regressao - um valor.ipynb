{
 "cells": [
  {
   "cell_type": "code",
   "execution_count": 1,
   "metadata": {},
   "outputs": [
    {
     "name": "stderr",
     "output_type": "stream",
     "text": [
      "Using TensorFlow backend.\n"
     ]
    }
   ],
   "source": [
    "import pandas as pd\n",
    "from keras.models import Sequential\n",
    "from keras.layers import Dense\n",
    "\n",
    "from sklearn.preprocessing import LabelEncoder, OneHotEncoder"
   ]
  },
  {
   "cell_type": "code",
   "execution_count": 2,
   "metadata": {},
   "outputs": [],
   "source": [
    "base = pd.read_csv('../data/autos.csv', encoding = 'ISO-8859-1')"
   ]
  },
  {
   "cell_type": "markdown",
   "metadata": {},
   "source": [
    "# Pré Processamento"
   ]
  },
  {
   "cell_type": "code",
   "execution_count": 3,
   "metadata": {},
   "outputs": [],
   "source": [
    "base = base.drop('dateCrawled', axis = 1)\n",
    "base = base.drop('dateCreated', axis = 1)\n",
    "base = base.drop('nrOfPictures', axis = 1)\n",
    "base = base.drop('postalCode', axis = 1)\n",
    "base = base.drop('lastSeen', axis = 1)"
   ]
  },
  {
   "cell_type": "code",
   "execution_count": 4,
   "metadata": {
    "scrolled": true
   },
   "outputs": [
    {
     "data": {
      "text/plain": [
       "Ford_Fiesta                                                           657\n",
       "BMW_318i                                                              627\n",
       "Opel_Corsa                                                            622\n",
       "Volkswagen_Golf_1.4                                                   603\n",
       "BMW_316i                                                              523\n",
       "BMW_320i                                                              492\n",
       "Volkswagen_Polo                                                       475\n",
       "Renault_Twingo                                                        447\n",
       "Volkswagen_Golf                                                       428\n",
       "Volkswagen_Golf_1.6                                                   413\n",
       "Volkswagen_Polo_1.2                                                   412\n",
       "BMW_116i                                                              394\n",
       "Opel_Corsa_1.2_16V                                                    373\n",
       "Opel_Corsa_B                                                          369\n",
       "Opel_Astra                                                            366\n",
       "Peugeot_206                                                           365\n",
       "Ford_Focus                                                            361\n",
       "Opel_Corsa_1.0_12V                                                    344\n",
       "Renault_Twingo_1.2                                                    322\n",
       "Volkswagen_Passat_Variant_1.9_TDI                                     274\n",
       "Volkswagen_Golf_1.9_TDI                                               273\n",
       "Opel_Astra_1.6                                                        260\n",
       "Audi_A4_Avant_2.0_TDI_DPF                                             254\n",
       "MINI_Mini_Cooper                                                      245\n",
       "Ford_Ka                                                               242\n",
       "Fiat_Punto                                                            242\n",
       "Audi_A4_Avant_1.9_TDI                                                 241\n",
       "Audi_A4_1.6                                                           238\n",
       "MINI_Mini_One                                                         233\n",
       "BMW_520i                                                              226\n",
       "                                                                     ... \n",
       "Verkaufe_Ford_Fiesta_noch_angemeldet                                    1\n",
       "BMW_Bmw_316I_150Tkm_Euro4_Alufelgen_Sport_Klima                         1\n",
       "Opel_Omega_B_Caravan_3.0_mv6_an_bastler                                 1\n",
       "Bmw_320td_Teiletraeger_Bastlerfahrzeug                                  1\n",
       "Volkswagen_Golf_IV_4_1.6_Highline___Tuev__Zahnriemen__Kupplung_NEU      1\n",
       "GOLF_3_CABRIO_1_8_CARMAN                                                1\n",
       "Nissan_Automatik                                                        1\n",
       "BMW_316ti_Compact_WER_BIS_01.04._ABHOLT_ZAHLT_2.000_!!!                1\n",
       "ML_270_CDI_im_guten_Zustand_suche_W_211_cdi_Kombi                       1\n",
       "Volkwagen_Golf_5                                                        1\n",
       "Audi_A3_Klimaauto._TÜV_7.2017_Technisch_guter_Zustand                   1\n",
       "KULTAUTO_Zastava_Yugo_65EFI_65PS_Top_GRÜNE_PLAKETTE_!!!!                1\n",
       "Audi_100_2.3_E_C4                                                       1\n",
       "Passat_3B_Bj_1999                                                       1\n",
       "Alfa_Romeo_159_Sportwagon_1.9_JTDM_16V_DPF__Design_GIUCIARO             1\n",
       "Avantgarde_1er_BMW_116i                                                 1\n",
       "Colf1_Cabrio_zu_verkaufen                                               1\n",
       "Fiat_Bravo_Tuev_02/2018                                                 1\n",
       "BMW_530d_GT__RÜCKFAHRKAMERA___KEYLESS_GO_                               1\n",
       "Peugeot_406_HDI_2.0__SONDERPREIS!!!!                                    1\n",
       "Bmw_E93_330d_Cabrio_Top_Gepflegt                                        1\n",
       "Peugeot_106_TÜV_03/2017_Guter_Zustand___Allwetterreifen                 1\n",
       "Polo_60_Servo_Colour_Concept                                            1\n",
       "Ford_Mondeo_2.0_Turnier_TDCi_Automatil__facelift                        1\n",
       "Rover_216i_Cabriolet                                                    1\n",
       "Bmw_318ti_1_Hand_Standheizung__Klima__Ahk__Leder__TÜV_1/18              1\n",
       "Audi_A4_Avant_2.0_TDI_DPF_Bilder_werden_nachgereicht_                   1\n",
       "Audi_A3_Sportback_2.0TDI_QUATTRO_S_line                                 1\n",
       "Toyota_HiAce_KLIMA_12_SITZE_MOD.H_20                                    1\n",
       "VW_Eos_2.0_tsfi_Vollausstattung_voll_gepflegt                           1\n",
       "Name: name, Length: 233531, dtype: int64"
      ]
     },
     "execution_count": 4,
     "metadata": {},
     "output_type": "execute_result"
    }
   ],
   "source": [
    "base['name'].value_counts()"
   ]
  },
  {
   "cell_type": "code",
   "execution_count": 5,
   "metadata": {},
   "outputs": [],
   "source": [
    "base = base.drop('name', axis = 1)"
   ]
  },
  {
   "cell_type": "code",
   "execution_count": 6,
   "metadata": {},
   "outputs": [
    {
     "data": {
      "text/plain": [
       "privat        371525\n",
       "gewerblich         3\n",
       "Name: seller, dtype: int64"
      ]
     },
     "execution_count": 6,
     "metadata": {},
     "output_type": "execute_result"
    }
   ],
   "source": [
    "base['seller'].value_counts()"
   ]
  },
  {
   "cell_type": "code",
   "execution_count": 7,
   "metadata": {},
   "outputs": [],
   "source": [
    "base = base.drop('seller', axis = 1)"
   ]
  },
  {
   "cell_type": "code",
   "execution_count": 8,
   "metadata": {},
   "outputs": [
    {
     "data": {
      "text/plain": [
       "Angebot    371516\n",
       "Gesuch         12\n",
       "Name: offerType, dtype: int64"
      ]
     },
     "execution_count": 8,
     "metadata": {},
     "output_type": "execute_result"
    }
   ],
   "source": [
    "base['offerType'].value_counts()"
   ]
  },
  {
   "cell_type": "code",
   "execution_count": 9,
   "metadata": {},
   "outputs": [],
   "source": [
    "base = base.drop('offerType', axis = 1)"
   ]
  },
  {
   "cell_type": "markdown",
   "metadata": {},
   "source": [
    "# Variáveis inconsistentes"
   ]
  },
  {
   "cell_type": "code",
   "execution_count": 10,
   "metadata": {},
   "outputs": [],
   "source": [
    "#preços abaixo de 10 reais\n",
    "i1 = base.loc[base.price <= 10]\n",
    "base.price.mean()\n",
    "base = base[base.price > 10]"
   ]
  },
  {
   "cell_type": "code",
   "execution_count": 11,
   "metadata": {},
   "outputs": [],
   "source": [
    "#preços inconsistentes, geralmente será 999.999 ou 11.111.111\n",
    "i2 = base.loc[base.price > 350000]\n",
    "base = base.loc[base.price < 350000]"
   ]
  },
  {
   "cell_type": "code",
   "execution_count": 12,
   "metadata": {
    "scrolled": true
   },
   "outputs": [
    {
     "data": {
      "text/plain": [
       "price                      0\n",
       "abtest                     0\n",
       "vehicleType            33546\n",
       "yearOfRegistration         0\n",
       "gearbox                17236\n",
       "powerPS                    0\n",
       "model                  17967\n",
       "kilometer                  0\n",
       "monthOfRegistration        0\n",
       "fuelType               29391\n",
       "brand                      0\n",
       "notRepairedDamage      65986\n",
       "dtype: int64"
      ]
     },
     "execution_count": 12,
     "metadata": {},
     "output_type": "execute_result"
    }
   ],
   "source": [
    "base.isnull().sum()"
   ]
  },
  {
   "cell_type": "code",
   "execution_count": 13,
   "metadata": {},
   "outputs": [
    {
     "data": {
      "text/plain": [
       "limousine     93614\n",
       "kleinwagen    78014\n",
       "kombi         65921\n",
       "bus           29699\n",
       "cabrio        22509\n",
       "coupe         18386\n",
       "suv           14477\n",
       "andere         3125\n",
       "Name: vehicleType, dtype: int64"
      ]
     },
     "execution_count": 13,
     "metadata": {},
     "output_type": "execute_result"
    }
   ],
   "source": [
    "base['vehicleType'].value_counts() # limousine"
   ]
  },
  {
   "cell_type": "code",
   "execution_count": 14,
   "metadata": {},
   "outputs": [
    {
     "data": {
      "text/plain": [
       "manuell      266547\n",
       "automatik     75508\n",
       "Name: gearbox, dtype: int64"
      ]
     },
     "execution_count": 14,
     "metadata": {},
     "output_type": "execute_result"
    }
   ],
   "source": [
    "base['gearbox'].value_counts() # manuell"
   ]
  },
  {
   "cell_type": "code",
   "execution_count": 15,
   "metadata": {},
   "outputs": [
    {
     "data": {
      "text/plain": [
       "golf                  28989\n",
       "andere                25560\n",
       "3er                   19905\n",
       "polo                  12604\n",
       "corsa                 12149\n",
       "astra                 10458\n",
       "a4                     9972\n",
       "passat                 9966\n",
       "c_klasse               8624\n",
       "5er                    8304\n",
       "e_klasse               7379\n",
       "a3                     6498\n",
       "a6                     5832\n",
       "focus                  5805\n",
       "fiesta                 5645\n",
       "transporter            5371\n",
       "twingo                 4804\n",
       "2_reihe                4753\n",
       "fortwo                 4286\n",
       "a_klasse               4241\n",
       "vectra                 4072\n",
       "1er                    3818\n",
       "mondeo                 3503\n",
       "touran                 3492\n",
       "clio                   3456\n",
       "3_reihe                3427\n",
       "punto                  3238\n",
       "zafira                 2983\n",
       "megane                 2809\n",
       "ibiza                  2634\n",
       "                      ...  \n",
       "mii                      81\n",
       "crossfire                66\n",
       "range_rover_evoque       65\n",
       "gl                       63\n",
       "nubira                   61\n",
       "move                     51\n",
       "lybra                    50\n",
       "v60                      48\n",
       "145                      45\n",
       "croma                    45\n",
       "amarok                   39\n",
       "delta                    39\n",
       "terios                   35\n",
       "lodgy                    35\n",
       "9000                     28\n",
       "charade                  27\n",
       "b_max                    26\n",
       "musa                     23\n",
       "materia                  18\n",
       "200                      17\n",
       "kappa                    15\n",
       "samara                   12\n",
       "elefantino               11\n",
       "i3                       10\n",
       "kalina                    9\n",
       "serie_2                   8\n",
       "rangerover                6\n",
       "serie_3                   3\n",
       "discovery_sport           1\n",
       "serie_1                   1\n",
       "Name: model, Length: 251, dtype: int64"
      ]
     },
     "execution_count": 15,
     "metadata": {},
     "output_type": "execute_result"
    }
   ],
   "source": [
    "base['model'].value_counts() # golf"
   ]
  },
  {
   "cell_type": "code",
   "execution_count": 16,
   "metadata": {},
   "outputs": [
    {
     "data": {
      "text/plain": [
       "benzin     217582\n",
       "diesel     106002\n",
       "lpg          5222\n",
       "cng           557\n",
       "hybrid        271\n",
       "andere        165\n",
       "elektro       101\n",
       "Name: fuelType, dtype: int64"
      ]
     },
     "execution_count": 16,
     "metadata": {},
     "output_type": "execute_result"
    }
   ],
   "source": [
    "base['fuelType'].value_counts() # benzin"
   ]
  },
  {
   "cell_type": "code",
   "execution_count": 17,
   "metadata": {},
   "outputs": [
    {
     "data": {
      "text/plain": [
       "nein    259301\n",
       "ja       34004\n",
       "Name: notRepairedDamage, dtype: int64"
      ]
     },
     "execution_count": 17,
     "metadata": {},
     "output_type": "execute_result"
    }
   ],
   "source": [
    "base['notRepairedDamage'].value_counts() # nein"
   ]
  },
  {
   "cell_type": "code",
   "execution_count": 18,
   "metadata": {},
   "outputs": [],
   "source": [
    "valores = {'vehicleType': 'limousine', 'gearbox': 'manuell',\n",
    "           'model': 'golf', 'fuelType': 'benzin',\n",
    "           'notRepairedDamage': 'nein'}\n",
    "base = base.fillna(value = valores)"
   ]
  },
  {
   "cell_type": "code",
   "execution_count": 19,
   "metadata": {},
   "outputs": [],
   "source": [
    "previsores = base.iloc[:, 1:13].values\n",
    "preco_real = base.iloc[:, 0].values"
   ]
  },
  {
   "cell_type": "markdown",
   "metadata": {},
   "source": [
    "# One Hot Encoder"
   ]
  },
  {
   "cell_type": "code",
   "execution_count": 20,
   "metadata": {},
   "outputs": [],
   "source": [
    "labelencoder_previsores = LabelEncoder()\n",
    "previsores[:, 0] = labelencoder_previsores.fit_transform(previsores[:, 0])\n",
    "previsores[:, 1] = labelencoder_previsores.fit_transform(previsores[:, 1])\n",
    "previsores[:, 3] = labelencoder_previsores.fit_transform(previsores[:, 3])\n",
    "previsores[:, 5] = labelencoder_previsores.fit_transform(previsores[:, 5])\n",
    "previsores[:, 8] = labelencoder_previsores.fit_transform(previsores[:, 8])\n",
    "previsores[:, 9] = labelencoder_previsores.fit_transform(previsores[:, 9])\n",
    "previsores[:, 10] = labelencoder_previsores.fit_transform(previsores[:, 10])"
   ]
  },
  {
   "cell_type": "code",
   "execution_count": 21,
   "metadata": {},
   "outputs": [
    {
     "name": "stderr",
     "output_type": "stream",
     "text": [
      "/home/eduardo/anaconda3/lib/python3.7/site-packages/sklearn/preprocessing/_encoders.py:414: FutureWarning: The handling of integer data will change in version 0.22. Currently, the categories are determined based on the range [0, max(values)], while in the future they will be determined based on the unique values.\n",
      "If you want the future behaviour and silence this warning, you can specify \"categories='auto'\".\n",
      "In case you used a LabelEncoder before this OneHotEncoder to convert the categories to integers, then you can now use the OneHotEncoder directly.\n",
      "  warnings.warn(msg, FutureWarning)\n",
      "/home/eduardo/anaconda3/lib/python3.7/site-packages/sklearn/preprocessing/_encoders.py:450: DeprecationWarning: The 'categorical_features' keyword is deprecated in version 0.20 and will be removed in 0.22. You can use the ColumnTransformer instead.\n",
      "  \"use the ColumnTransformer instead.\", DeprecationWarning)\n"
     ]
    }
   ],
   "source": [
    "onehotencoder = OneHotEncoder(categorical_features = [0,1,3,5,8,9,10])\n",
    "previsores = onehotencoder.fit_transform(previsores).toarray()"
   ]
  },
  {
   "cell_type": "code",
   "execution_count": 22,
   "metadata": {},
   "outputs": [
    {
     "name": "stdout",
     "output_type": "stream",
     "text": [
      "Epoch 1/100\n",
      "359291/359291 [==============================] - 9s 26us/step - loss: 3806.9199 - mean_absolute_error: 3806.9180\n",
      "Epoch 2/100\n",
      "359291/359291 [==============================] - 6s 16us/step - loss: 3266.4004 - mean_absolute_error: 3266.4031\n",
      "Epoch 3/100\n",
      "359291/359291 [==============================] - 6s 16us/step - loss: 3012.7809 - mean_absolute_error: 3012.7839\n",
      "Epoch 4/100\n",
      "359291/359291 [==============================] - 6s 17us/step - loss: 2874.1742 - mean_absolute_error: 2874.1753\n",
      "Epoch 5/100\n",
      "359291/359291 [==============================] - 6s 17us/step - loss: 2789.6721 - mean_absolute_error: 2789.6726\n",
      "Epoch 6/100\n",
      "359291/359291 [==============================] - 6s 16us/step - loss: 2741.2590 - mean_absolute_error: 2741.2593\n",
      "Epoch 7/100\n",
      "359291/359291 [==============================] - 6s 17us/step - loss: 2693.2583 - mean_absolute_error: 2693.2590\n",
      "Epoch 8/100\n",
      "359291/359291 [==============================] - 6s 16us/step - loss: 2630.0557 - mean_absolute_error: 2630.0559\n",
      "Epoch 9/100\n",
      "359291/359291 [==============================] - 6s 17us/step - loss: 2609.4669 - mean_absolute_error: 2609.4653\n",
      "Epoch 10/100\n",
      "359291/359291 [==============================] - 6s 17us/step - loss: 2564.7283 - mean_absolute_error: 2564.7266\n",
      "Epoch 11/100\n",
      "359291/359291 [==============================] - 6s 17us/step - loss: 2538.2722 - mean_absolute_error: 2538.2734\n",
      "Epoch 12/100\n",
      "359291/359291 [==============================] - 6s 17us/step - loss: 2512.3676 - mean_absolute_error: 2512.3660\n",
      "Epoch 13/100\n",
      "359291/359291 [==============================] - 6s 17us/step - loss: 2501.2435 - mean_absolute_error: 2501.2429\n",
      "Epoch 14/100\n",
      "359291/359291 [==============================] - 6s 16us/step - loss: 2460.5270 - mean_absolute_error: 2460.5278\n",
      "Epoch 15/100\n",
      "359291/359291 [==============================] - 6s 17us/step - loss: 2451.9399 - mean_absolute_error: 2451.9407\n",
      "Epoch 16/100\n",
      "359291/359291 [==============================] - 6s 17us/step - loss: 2432.6880 - mean_absolute_error: 2432.6882\n",
      "Epoch 17/100\n",
      "359291/359291 [==============================] - 6s 17us/step - loss: 2454.5691 - mean_absolute_error: 2454.5701\n",
      "Epoch 18/100\n",
      "359291/359291 [==============================] - 6s 17us/step - loss: 2428.6033 - mean_absolute_error: 2428.6028\n",
      "Epoch 19/100\n",
      "359291/359291 [==============================] - 6s 17us/step - loss: 2422.3440 - mean_absolute_error: 2422.3433\n",
      "Epoch 20/100\n",
      "359291/359291 [==============================] - 7s 19us/step - loss: 2406.9174 - mean_absolute_error: 2406.9194\n",
      "Epoch 21/100\n",
      "359291/359291 [==============================] - 6s 16us/step - loss: 2399.7987 - mean_absolute_error: 2399.7983\n",
      "Epoch 22/100\n",
      "359291/359291 [==============================] - 6s 16us/step - loss: 2402.1661 - mean_absolute_error: 2402.1655\n",
      "Epoch 23/100\n",
      "359291/359291 [==============================] - 6s 16us/step - loss: 2402.1612 - mean_absolute_error: 2402.1633\n",
      "Epoch 24/100\n",
      "359291/359291 [==============================] - 6s 17us/step - loss: 2389.2080 - mean_absolute_error: 2389.2065\n",
      "Epoch 25/100\n",
      "359291/359291 [==============================] - 7s 20us/step - loss: 2384.2941 - mean_absolute_error: 2384.2937\n",
      "Epoch 26/100\n",
      "359291/359291 [==============================] - 7s 19us/step - loss: 2375.9204 - mean_absolute_error: 2375.9192\n",
      "Epoch 27/100\n",
      "359291/359291 [==============================] - 6s 18us/step - loss: 2387.5761 - mean_absolute_error: 2387.5762\n",
      "Epoch 28/100\n",
      "359291/359291 [==============================] - 6s 17us/step - loss: 2372.1403 - mean_absolute_error: 2372.1421\n",
      "Epoch 29/100\n",
      "359291/359291 [==============================] - 6s 17us/step - loss: 2371.7780 - mean_absolute_error: 2371.7754\n",
      "Epoch 30/100\n",
      "359291/359291 [==============================] - 6s 17us/step - loss: 2359.2818 - mean_absolute_error: 2359.2795\n",
      "Epoch 31/100\n",
      "359291/359291 [==============================] - 7s 19us/step - loss: 2351.1473 - mean_absolute_error: 2351.1465\n",
      "Epoch 32/100\n",
      "359291/359291 [==============================] - 7s 18us/step - loss: 2369.5481 - mean_absolute_error: 2369.5479\n",
      "Epoch 33/100\n",
      "359291/359291 [==============================] - 6s 16us/step - loss: 2351.1665 - mean_absolute_error: 2351.1650\n",
      "Epoch 34/100\n",
      "359291/359291 [==============================] - 6s 16us/step - loss: 2365.4085 - mean_absolute_error: 2365.4080\n",
      "Epoch 35/100\n",
      "359291/359291 [==============================] - 7s 20us/step - loss: 2362.2813 - mean_absolute_error: 2362.2812\n",
      "Epoch 36/100\n",
      "359291/359291 [==============================] - 6s 16us/step - loss: 2343.1455 - mean_absolute_error: 2343.1443\n",
      "Epoch 37/100\n",
      "359291/359291 [==============================] - 6s 16us/step - loss: 2344.7130 - mean_absolute_error: 2344.7146\n",
      "Epoch 38/100\n",
      "359291/359291 [==============================] - 6s 16us/step - loss: 2342.8790 - mean_absolute_error: 2342.8779\n",
      "Epoch 39/100\n",
      "359291/359291 [==============================] - 6s 16us/step - loss: 2351.3222 - mean_absolute_error: 2351.3228\n",
      "Epoch 40/100\n",
      "359291/359291 [==============================] - 6s 17us/step - loss: 2353.5495 - mean_absolute_error: 2353.5498\n",
      "Epoch 41/100\n",
      "359291/359291 [==============================] - 6s 16us/step - loss: 2320.0876 - mean_absolute_error: 2320.0874\n",
      "Epoch 42/100\n",
      "359291/359291 [==============================] - 6s 17us/step - loss: 2331.4179 - mean_absolute_error: 2331.4160\n",
      "Epoch 43/100\n",
      "359291/359291 [==============================] - 6s 17us/step - loss: 2332.5870 - mean_absolute_error: 2332.5859\n",
      "Epoch 44/100\n",
      "359291/359291 [==============================] - 6s 18us/step - loss: 2325.7710 - mean_absolute_error: 2325.7698\n",
      "Epoch 45/100\n",
      "359291/359291 [==============================] - 6s 17us/step - loss: 2316.6685 - mean_absolute_error: 2316.6677\n",
      "Epoch 46/100\n",
      "359291/359291 [==============================] - 6s 17us/step - loss: 2317.8911 - mean_absolute_error: 2317.8896\n",
      "Epoch 47/100\n",
      "359291/359291 [==============================] - 6s 17us/step - loss: 2303.5344 - mean_absolute_error: 2303.5352\n",
      "Epoch 48/100\n",
      "359291/359291 [==============================] - 6s 17us/step - loss: 2321.6366 - mean_absolute_error: 2321.6348\n",
      "Epoch 49/100\n",
      "359291/359291 [==============================] - 6s 18us/step - loss: 2312.4081 - mean_absolute_error: 2312.4080\n",
      "Epoch 50/100\n",
      "359291/359291 [==============================] - 6s 17us/step - loss: 2305.8764 - mean_absolute_error: 2305.8765\n",
      "Epoch 51/100\n",
      "359291/359291 [==============================] - 6s 17us/step - loss: 2306.6143 - mean_absolute_error: 2306.6157\n",
      "Epoch 52/100\n",
      "359291/359291 [==============================] - 7s 20us/step - loss: 2304.8602 - mean_absolute_error: 2304.8616\n",
      "Epoch 53/100\n",
      "359291/359291 [==============================] - 7s 18us/step - loss: 2306.9333 - mean_absolute_error: 2306.9324\n",
      "Epoch 54/100\n",
      "359291/359291 [==============================] - 7s 19us/step - loss: 2324.1265 - mean_absolute_error: 2324.1265\n",
      "Epoch 55/100\n",
      "359291/359291 [==============================] - 6s 17us/step - loss: 2303.4785 - mean_absolute_error: 2303.4778\n",
      "Epoch 56/100\n",
      "359291/359291 [==============================] - 6s 17us/step - loss: 2298.7610 - mean_absolute_error: 2298.7627\n",
      "Epoch 57/100\n",
      "359291/359291 [==============================] - 6s 16us/step - loss: 2290.5220 - mean_absolute_error: 2290.5239\n",
      "Epoch 58/100\n",
      "359291/359291 [==============================] - 6s 16us/step - loss: 2298.6706 - mean_absolute_error: 2298.6711\n",
      "Epoch 59/100\n",
      "359291/359291 [==============================] - 6s 16us/step - loss: 2297.5916 - mean_absolute_error: 2297.5903\n",
      "Epoch 60/100\n",
      "359291/359291 [==============================] - 6s 17us/step - loss: 2294.0436 - mean_absolute_error: 2294.0444\n",
      "Epoch 61/100\n",
      "359291/359291 [==============================] - 6s 17us/step - loss: 2295.0117 - mean_absolute_error: 2295.0137\n",
      "Epoch 62/100\n",
      "359291/359291 [==============================] - 6s 17us/step - loss: 2294.0898 - mean_absolute_error: 2294.0891\n",
      "Epoch 63/100\n",
      "359291/359291 [==============================] - 6s 17us/step - loss: 2287.4521 - mean_absolute_error: 2287.4534\n",
      "Epoch 64/100\n",
      "359291/359291 [==============================] - 6s 16us/step - loss: 2277.8917 - mean_absolute_error: 2277.8955\n",
      "Epoch 65/100\n",
      "359291/359291 [==============================] - 6s 17us/step - loss: 2286.0406 - mean_absolute_error: 2286.0422\n",
      "Epoch 66/100\n"
     ]
    },
    {
     "name": "stdout",
     "output_type": "stream",
     "text": [
      "359291/359291 [==============================] - 6s 16us/step - loss: 2291.6387 - mean_absolute_error: 2291.6379\n",
      "Epoch 67/100\n",
      "359291/359291 [==============================] - 6s 16us/step - loss: 2286.4511 - mean_absolute_error: 2286.4517\n",
      "Epoch 68/100\n",
      "359291/359291 [==============================] - 6s 17us/step - loss: 2274.8850 - mean_absolute_error: 2274.8855\n",
      "Epoch 69/100\n",
      "359291/359291 [==============================] - 6s 17us/step - loss: 2274.3073 - mean_absolute_error: 2274.3088\n",
      "Epoch 70/100\n",
      "359291/359291 [==============================] - 6s 16us/step - loss: 2284.2413 - mean_absolute_error: 2284.2424\n",
      "Epoch 71/100\n",
      "359291/359291 [==============================] - 6s 16us/step - loss: 2277.0632 - mean_absolute_error: 2277.0615\n",
      "Epoch 72/100\n",
      "359291/359291 [==============================] - 6s 16us/step - loss: 2268.7318 - mean_absolute_error: 2268.7327\n",
      "Epoch 73/100\n",
      "359291/359291 [==============================] - 6s 16us/step - loss: 2280.0191 - mean_absolute_error: 2280.0195\n",
      "Epoch 74/100\n",
      "359291/359291 [==============================] - 6s 17us/step - loss: 2284.0968 - mean_absolute_error: 2284.0942\n",
      "Epoch 75/100\n",
      "359291/359291 [==============================] - 6s 17us/step - loss: 2273.0421 - mean_absolute_error: 2273.0400\n",
      "Epoch 76/100\n",
      "359291/359291 [==============================] - 6s 18us/step - loss: 2275.0349 - mean_absolute_error: 2275.0349\n",
      "Epoch 77/100\n",
      "359291/359291 [==============================] - 6s 18us/step - loss: 2264.5339 - mean_absolute_error: 2264.5342\n",
      "Epoch 78/100\n",
      "359291/359291 [==============================] - 6s 18us/step - loss: 2273.6122 - mean_absolute_error: 2273.6133\n",
      "Epoch 79/100\n",
      "359291/359291 [==============================] - 6s 17us/step - loss: 2266.7431 - mean_absolute_error: 2266.7422\n",
      "Epoch 80/100\n",
      "359291/359291 [==============================] - 6s 16us/step - loss: 2270.9219 - mean_absolute_error: 2270.9214\n",
      "Epoch 81/100\n",
      "359291/359291 [==============================] - 6s 16us/step - loss: 2280.4611 - mean_absolute_error: 2280.4614\n",
      "Epoch 82/100\n",
      "359291/359291 [==============================] - 6s 16us/step - loss: 2264.1594 - mean_absolute_error: 2264.1594\n",
      "Epoch 83/100\n",
      "359291/359291 [==============================] - 6s 18us/step - loss: 2259.2050 - mean_absolute_error: 2259.2041\n",
      "Epoch 84/100\n",
      "359291/359291 [==============================] - 6s 16us/step - loss: 2256.7371 - mean_absolute_error: 2256.7400\n",
      "Epoch 85/100\n",
      "359291/359291 [==============================] - 6s 17us/step - loss: 2266.7118 - mean_absolute_error: 2266.7139\n",
      "Epoch 86/100\n",
      "359291/359291 [==============================] - 6s 16us/step - loss: 2261.4101 - mean_absolute_error: 2261.4099\n",
      "Epoch 87/100\n",
      "359291/359291 [==============================] - 6s 16us/step - loss: 2273.5514 - mean_absolute_error: 2273.5500\n",
      "Epoch 88/100\n",
      "359291/359291 [==============================] - 6s 16us/step - loss: 2254.2857 - mean_absolute_error: 2254.2856\n",
      "Epoch 89/100\n",
      "359291/359291 [==============================] - 6s 16us/step - loss: 2256.8994 - mean_absolute_error: 2256.8979\n",
      "Epoch 90/100\n",
      "359291/359291 [==============================] - 6s 16us/step - loss: 2251.9752 - mean_absolute_error: 2251.9753\n",
      "Epoch 91/100\n",
      "359291/359291 [==============================] - 6s 16us/step - loss: 2254.9028 - mean_absolute_error: 2254.9036\n",
      "Epoch 92/100\n",
      "359291/359291 [==============================] - 6s 16us/step - loss: 2269.7058 - mean_absolute_error: 2269.7061\n",
      "Epoch 93/100\n",
      "359291/359291 [==============================] - 6s 16us/step - loss: 2258.6572 - mean_absolute_error: 2258.6575\n",
      "Epoch 94/100\n",
      "359291/359291 [==============================] - 6s 17us/step - loss: 2258.1189 - mean_absolute_error: 2258.1179\n",
      "Epoch 95/100\n",
      "359291/359291 [==============================] - 8s 21us/step - loss: 2241.9962 - mean_absolute_error: 2241.9966\n",
      "Epoch 96/100\n",
      "359291/359291 [==============================] - 7s 20us/step - loss: 2242.0694 - mean_absolute_error: 2242.0693\n",
      "Epoch 97/100\n",
      "359291/359291 [==============================] - 7s 19us/step - loss: 2238.3837 - mean_absolute_error: 2238.3840\n",
      "Epoch 98/100\n",
      "359291/359291 [==============================] - 7s 18us/step - loss: 2252.3610 - mean_absolute_error: 2252.3623\n",
      "Epoch 99/100\n",
      "359291/359291 [==============================] - 6s 18us/step - loss: 2248.5255 - mean_absolute_error: 2248.5247\n",
      "Epoch 100/100\n",
      "359291/359291 [==============================] - 6s 18us/step - loss: 2240.5222 - mean_absolute_error: 2240.5222\n"
     ]
    },
    {
     "data": {
      "text/plain": [
       "<keras.callbacks.callbacks.History at 0x7fe12fea62b0>"
      ]
     },
     "execution_count": 22,
     "metadata": {},
     "output_type": "execute_result"
    }
   ],
   "source": [
    "regressor = Sequential()\n",
    "regressor.add(Dense(units = 158, activation = 'relu', input_dim = 316))\n",
    "regressor.add(Dense(units = 158, activation = 'relu'))\n",
    "regressor.add(Dense(units = 1, activation = 'linear'))\n",
    "regressor.compile(loss = 'mean_absolute_error', optimizer = 'adam',\n",
    "                  metrics = ['mean_absolute_error'])\n",
    "regressor.fit(previsores, preco_real, batch_size = 300, epochs = 100)"
   ]
  },
  {
   "cell_type": "code",
   "execution_count": 23,
   "metadata": {},
   "outputs": [],
   "source": [
    "previsoes = regressor.predict(previsores)"
   ]
  },
  {
   "cell_type": "code",
   "execution_count": 24,
   "metadata": {},
   "outputs": [
    {
     "data": {
      "text/plain": [
       "5916.833945186492"
      ]
     },
     "execution_count": 24,
     "metadata": {},
     "output_type": "execute_result"
    }
   ],
   "source": [
    "preco_real.mean()"
   ]
  },
  {
   "cell_type": "code",
   "execution_count": 25,
   "metadata": {},
   "outputs": [
    {
     "data": {
      "text/plain": [
       "5910.6924"
      ]
     },
     "execution_count": 25,
     "metadata": {},
     "output_type": "execute_result"
    }
   ],
   "source": [
    "previsoes.mean()"
   ]
  },
  {
   "cell_type": "code",
   "execution_count": null,
   "metadata": {},
   "outputs": [],
   "source": []
  }
 ],
 "metadata": {
  "kernelspec": {
   "display_name": "Python 3",
   "language": "python",
   "name": "python3"
  },
  "language_info": {
   "codemirror_mode": {
    "name": "ipython",
    "version": 3
   },
   "file_extension": ".py",
   "mimetype": "text/x-python",
   "name": "python",
   "nbconvert_exporter": "python",
   "pygments_lexer": "ipython3",
   "version": "3.7.3"
  }
 },
 "nbformat": 4,
 "nbformat_minor": 2
}
