{
 "cells": [
  {
   "cell_type": "code",
   "execution_count": 1,
   "metadata": {},
   "outputs": [
    {
     "name": "stderr",
     "output_type": "stream",
     "text": [
      "Using TensorFlow backend.\n"
     ]
    }
   ],
   "source": [
    "import pandas as pd\n",
    "from keras.models import Sequential\n",
    "from keras.layers import Dense\n",
    "\n",
    "from sklearn.preprocessing import LabelEncoder, OneHotEncoder"
   ]
  },
  {
   "cell_type": "code",
   "execution_count": 2,
   "metadata": {},
   "outputs": [],
   "source": [
    "base = pd.read_csv('../data/autos.csv', encoding = 'ISO-8859-1')"
   ]
  },
  {
   "cell_type": "markdown",
   "metadata": {},
   "source": [
    "# Pré Processamento"
   ]
  },
  {
   "cell_type": "code",
   "execution_count": 3,
   "metadata": {},
   "outputs": [],
   "source": [
    "base = base.drop('dateCrawled', axis = 1)\n",
    "base = base.drop('dateCreated', axis = 1)\n",
    "base = base.drop('nrOfPictures', axis = 1)\n",
    "base = base.drop('postalCode', axis = 1)\n",
    "base = base.drop('lastSeen', axis = 1)"
   ]
  },
  {
   "cell_type": "code",
   "execution_count": 4,
   "metadata": {
    "scrolled": true
   },
   "outputs": [
    {
     "data": {
      "text/plain": [
       "Ford_Fiesta                                                           657\n",
       "BMW_318i                                                              627\n",
       "Opel_Corsa                                                            622\n",
       "Volkswagen_Golf_1.4                                                   603\n",
       "BMW_316i                                                              523\n",
       "BMW_320i                                                              492\n",
       "Volkswagen_Polo                                                       475\n",
       "Renault_Twingo                                                        447\n",
       "Volkswagen_Golf                                                       428\n",
       "Volkswagen_Golf_1.6                                                   413\n",
       "Volkswagen_Polo_1.2                                                   412\n",
       "BMW_116i                                                              394\n",
       "Opel_Corsa_1.2_16V                                                    373\n",
       "Opel_Corsa_B                                                          369\n",
       "Opel_Astra                                                            366\n",
       "Peugeot_206                                                           365\n",
       "Ford_Focus                                                            361\n",
       "Opel_Corsa_1.0_12V                                                    344\n",
       "Renault_Twingo_1.2                                                    322\n",
       "Volkswagen_Passat_Variant_1.9_TDI                                     274\n",
       "Volkswagen_Golf_1.9_TDI                                               273\n",
       "Opel_Astra_1.6                                                        260\n",
       "Audi_A4_Avant_2.0_TDI_DPF                                             254\n",
       "MINI_Mini_Cooper                                                      245\n",
       "Ford_Ka                                                               242\n",
       "Fiat_Punto                                                            242\n",
       "Audi_A4_Avant_1.9_TDI                                                 241\n",
       "Audi_A4_1.6                                                           238\n",
       "MINI_Mini_One                                                         233\n",
       "BMW_520i                                                              226\n",
       "                                                                     ... \n",
       "Verkaufe_Ford_Fiesta_noch_angemeldet                                    1\n",
       "BMW_Bmw_316I_150Tkm_Euro4_Alufelgen_Sport_Klima                         1\n",
       "Opel_Omega_B_Caravan_3.0_mv6_an_bastler                                 1\n",
       "Bmw_320td_Teiletraeger_Bastlerfahrzeug                                  1\n",
       "Volkswagen_Golf_IV_4_1.6_Highline___Tuev__Zahnriemen__Kupplung_NEU      1\n",
       "GOLF_3_CABRIO_1_8_CARMAN                                                1\n",
       "Nissan_Automatik                                                        1\n",
       "BMW_316ti_Compact_WER_BIS_01.04._ABHOLT_ZAHLT_2.000_!!!                1\n",
       "ML_270_CDI_im_guten_Zustand_suche_W_211_cdi_Kombi                       1\n",
       "Volkwagen_Golf_5                                                        1\n",
       "Audi_A3_Klimaauto._TÜV_7.2017_Technisch_guter_Zustand                   1\n",
       "KULTAUTO_Zastava_Yugo_65EFI_65PS_Top_GRÜNE_PLAKETTE_!!!!                1\n",
       "Audi_100_2.3_E_C4                                                       1\n",
       "Passat_3B_Bj_1999                                                       1\n",
       "Alfa_Romeo_159_Sportwagon_1.9_JTDM_16V_DPF__Design_GIUCIARO             1\n",
       "Avantgarde_1er_BMW_116i                                                 1\n",
       "Colf1_Cabrio_zu_verkaufen                                               1\n",
       "Fiat_Bravo_Tuev_02/2018                                                 1\n",
       "BMW_530d_GT__RÜCKFAHRKAMERA___KEYLESS_GO_                               1\n",
       "Peugeot_406_HDI_2.0__SONDERPREIS!!!!                                    1\n",
       "Bmw_E93_330d_Cabrio_Top_Gepflegt                                        1\n",
       "Peugeot_106_TÜV_03/2017_Guter_Zustand___Allwetterreifen                 1\n",
       "Polo_60_Servo_Colour_Concept                                            1\n",
       "Ford_Mondeo_2.0_Turnier_TDCi_Automatil__facelift                        1\n",
       "Rover_216i_Cabriolet                                                    1\n",
       "Bmw_318ti_1_Hand_Standheizung__Klima__Ahk__Leder__TÜV_1/18              1\n",
       "Audi_A4_Avant_2.0_TDI_DPF_Bilder_werden_nachgereicht_                   1\n",
       "Audi_A3_Sportback_2.0TDI_QUATTRO_S_line                                 1\n",
       "Toyota_HiAce_KLIMA_12_SITZE_MOD.H_20                                    1\n",
       "VW_Eos_2.0_tsfi_Vollausstattung_voll_gepflegt                           1\n",
       "Name: name, Length: 233531, dtype: int64"
      ]
     },
     "execution_count": 4,
     "metadata": {},
     "output_type": "execute_result"
    }
   ],
   "source": [
    "base['name'].value_counts()"
   ]
  },
  {
   "cell_type": "code",
   "execution_count": 5,
   "metadata": {},
   "outputs": [],
   "source": [
    "base = base.drop('name', axis = 1)"
   ]
  },
  {
   "cell_type": "code",
   "execution_count": 6,
   "metadata": {},
   "outputs": [
    {
     "data": {
      "text/plain": [
       "privat        371525\n",
       "gewerblich         3\n",
       "Name: seller, dtype: int64"
      ]
     },
     "execution_count": 6,
     "metadata": {},
     "output_type": "execute_result"
    }
   ],
   "source": [
    "base['seller'].value_counts()"
   ]
  },
  {
   "cell_type": "code",
   "execution_count": 7,
   "metadata": {},
   "outputs": [],
   "source": [
    "base = base.drop('seller', axis = 1)"
   ]
  },
  {
   "cell_type": "code",
   "execution_count": 8,
   "metadata": {},
   "outputs": [
    {
     "data": {
      "text/plain": [
       "Angebot    371516\n",
       "Gesuch         12\n",
       "Name: offerType, dtype: int64"
      ]
     },
     "execution_count": 8,
     "metadata": {},
     "output_type": "execute_result"
    }
   ],
   "source": [
    "base['offerType'].value_counts()"
   ]
  },
  {
   "cell_type": "code",
   "execution_count": 9,
   "metadata": {},
   "outputs": [],
   "source": [
    "base = base.drop('offerType', axis = 1)"
   ]
  },
  {
   "cell_type": "markdown",
   "metadata": {},
   "source": [
    "# Variáveis inconsistentes"
   ]
  },
  {
   "cell_type": "code",
   "execution_count": 10,
   "metadata": {},
   "outputs": [],
   "source": [
    "#preços abaixo de 10 reais\n",
    "i1 = base.loc[base.price <= 10]\n",
    "base.price.mean()\n",
    "base = base[base.price > 10]"
   ]
  },
  {
   "cell_type": "code",
   "execution_count": 11,
   "metadata": {},
   "outputs": [],
   "source": [
    "#preços inconsistentes, geralmente será 999.999 ou 11.111.111\n",
    "i2 = base.loc[base.price > 350000]\n",
    "base = base.loc[base.price < 350000]"
   ]
  },
  {
   "cell_type": "code",
   "execution_count": 12,
   "metadata": {
    "scrolled": true
   },
   "outputs": [
    {
     "data": {
      "text/plain": [
       "price                      0\n",
       "abtest                     0\n",
       "vehicleType            33546\n",
       "yearOfRegistration         0\n",
       "gearbox                17236\n",
       "powerPS                    0\n",
       "model                  17967\n",
       "kilometer                  0\n",
       "monthOfRegistration        0\n",
       "fuelType               29391\n",
       "brand                      0\n",
       "notRepairedDamage      65986\n",
       "dtype: int64"
      ]
     },
     "execution_count": 12,
     "metadata": {},
     "output_type": "execute_result"
    }
   ],
   "source": [
    "base.isnull().sum()"
   ]
  },
  {
   "cell_type": "code",
   "execution_count": 13,
   "metadata": {},
   "outputs": [
    {
     "data": {
      "text/plain": [
       "limousine     93614\n",
       "kleinwagen    78014\n",
       "kombi         65921\n",
       "bus           29699\n",
       "cabrio        22509\n",
       "coupe         18386\n",
       "suv           14477\n",
       "andere         3125\n",
       "Name: vehicleType, dtype: int64"
      ]
     },
     "execution_count": 13,
     "metadata": {},
     "output_type": "execute_result"
    }
   ],
   "source": [
    "base['vehicleType'].value_counts() # limousine"
   ]
  },
  {
   "cell_type": "code",
   "execution_count": 14,
   "metadata": {},
   "outputs": [
    {
     "data": {
      "text/plain": [
       "manuell      266547\n",
       "automatik     75508\n",
       "Name: gearbox, dtype: int64"
      ]
     },
     "execution_count": 14,
     "metadata": {},
     "output_type": "execute_result"
    }
   ],
   "source": [
    "base['gearbox'].value_counts() # manuell"
   ]
  },
  {
   "cell_type": "code",
   "execution_count": 15,
   "metadata": {},
   "outputs": [
    {
     "data": {
      "text/plain": [
       "golf                  28989\n",
       "andere                25560\n",
       "3er                   19905\n",
       "polo                  12604\n",
       "corsa                 12149\n",
       "astra                 10458\n",
       "a4                     9972\n",
       "passat                 9966\n",
       "c_klasse               8624\n",
       "5er                    8304\n",
       "e_klasse               7379\n",
       "a3                     6498\n",
       "a6                     5832\n",
       "focus                  5805\n",
       "fiesta                 5645\n",
       "transporter            5371\n",
       "twingo                 4804\n",
       "2_reihe                4753\n",
       "fortwo                 4286\n",
       "a_klasse               4241\n",
       "vectra                 4072\n",
       "1er                    3818\n",
       "mondeo                 3503\n",
       "touran                 3492\n",
       "clio                   3456\n",
       "3_reihe                3427\n",
       "punto                  3238\n",
       "zafira                 2983\n",
       "megane                 2809\n",
       "ibiza                  2634\n",
       "                      ...  \n",
       "mii                      81\n",
       "crossfire                66\n",
       "range_rover_evoque       65\n",
       "gl                       63\n",
       "nubira                   61\n",
       "move                     51\n",
       "lybra                    50\n",
       "v60                      48\n",
       "145                      45\n",
       "croma                    45\n",
       "amarok                   39\n",
       "delta                    39\n",
       "terios                   35\n",
       "lodgy                    35\n",
       "9000                     28\n",
       "charade                  27\n",
       "b_max                    26\n",
       "musa                     23\n",
       "materia                  18\n",
       "200                      17\n",
       "kappa                    15\n",
       "samara                   12\n",
       "elefantino               11\n",
       "i3                       10\n",
       "kalina                    9\n",
       "serie_2                   8\n",
       "rangerover                6\n",
       "serie_3                   3\n",
       "discovery_sport           1\n",
       "serie_1                   1\n",
       "Name: model, Length: 251, dtype: int64"
      ]
     },
     "execution_count": 15,
     "metadata": {},
     "output_type": "execute_result"
    }
   ],
   "source": [
    "base['model'].value_counts() # golf"
   ]
  },
  {
   "cell_type": "code",
   "execution_count": 16,
   "metadata": {},
   "outputs": [
    {
     "data": {
      "text/plain": [
       "benzin     217582\n",
       "diesel     106002\n",
       "lpg          5222\n",
       "cng           557\n",
       "hybrid        271\n",
       "andere        165\n",
       "elektro       101\n",
       "Name: fuelType, dtype: int64"
      ]
     },
     "execution_count": 16,
     "metadata": {},
     "output_type": "execute_result"
    }
   ],
   "source": [
    "base['fuelType'].value_counts() # benzin"
   ]
  },
  {
   "cell_type": "code",
   "execution_count": 17,
   "metadata": {},
   "outputs": [
    {
     "data": {
      "text/plain": [
       "nein    259301\n",
       "ja       34004\n",
       "Name: notRepairedDamage, dtype: int64"
      ]
     },
     "execution_count": 17,
     "metadata": {},
     "output_type": "execute_result"
    }
   ],
   "source": [
    "base['notRepairedDamage'].value_counts() # nein"
   ]
  },
  {
   "cell_type": "code",
   "execution_count": 18,
   "metadata": {},
   "outputs": [],
   "source": [
    "valores = {'vehicleType': 'limousine', 'gearbox': 'manuell',\n",
    "           'model': 'golf', 'fuelType': 'benzin',\n",
    "           'notRepairedDamage': 'nein'}\n",
    "base = base.fillna(value = valores)"
   ]
  },
  {
   "cell_type": "code",
   "execution_count": 19,
   "metadata": {},
   "outputs": [],
   "source": [
    "previsores = base.iloc[:, 1:13].values\n",
    "preco_real = base.iloc[:, 0].values"
   ]
  },
  {
   "cell_type": "markdown",
   "metadata": {},
   "source": [
    "# One Hot Encoder"
   ]
  },
  {
   "cell_type": "code",
   "execution_count": 20,
   "metadata": {},
   "outputs": [],
   "source": [
    "labelencoder_previsores = LabelEncoder()\n",
    "previsores[:, 0] = labelencoder_previsores.fit_transform(previsores[:, 0])\n",
    "previsores[:, 1] = labelencoder_previsores.fit_transform(previsores[:, 1])\n",
    "previsores[:, 3] = labelencoder_previsores.fit_transform(previsores[:, 3])\n",
    "previsores[:, 5] = labelencoder_previsores.fit_transform(previsores[:, 5])\n",
    "previsores[:, 8] = labelencoder_previsores.fit_transform(previsores[:, 8])\n",
    "previsores[:, 9] = labelencoder_previsores.fit_transform(previsores[:, 9])\n",
    "previsores[:, 10] = labelencoder_previsores.fit_transform(previsores[:, 10])"
   ]
  },
  {
   "cell_type": "code",
   "execution_count": null,
   "metadata": {},
   "outputs": [
    {
     "name": "stderr",
     "output_type": "stream",
     "text": [
      "/home/eduardo/anaconda3/lib/python3.7/site-packages/sklearn/preprocessing/_encoders.py:414: FutureWarning: The handling of integer data will change in version 0.22. Currently, the categories are determined based on the range [0, max(values)], while in the future they will be determined based on the unique values.\n",
      "If you want the future behaviour and silence this warning, you can specify \"categories='auto'\".\n",
      "In case you used a LabelEncoder before this OneHotEncoder to convert the categories to integers, then you can now use the OneHotEncoder directly.\n",
      "  warnings.warn(msg, FutureWarning)\n",
      "/home/eduardo/anaconda3/lib/python3.7/site-packages/sklearn/preprocessing/_encoders.py:450: DeprecationWarning: The 'categorical_features' keyword is deprecated in version 0.20 and will be removed in 0.22. You can use the ColumnTransformer instead.\n",
      "  \"use the ColumnTransformer instead.\", DeprecationWarning)\n"
     ]
    }
   ],
   "source": [
    "onehotencoder = OneHotEncoder(categorical_features = [0,1,3,5,8,9,10])\n",
    "previsores = onehotencoder.fit_transform(previsores).toarray()"
   ]
  },
  {
   "cell_type": "code",
   "execution_count": null,
   "metadata": {},
   "outputs": [],
   "source": [
    "regressor = Sequential()\n",
    "regressor.add(Dense(units = 158, activation = 'relu', input_dim = 316))\n",
    "regressor.add(Dense(units = 158, activation = 'relu'))\n",
    "regressor.add(Dense(units = 1, activation = 'linear'))\n",
    "regressor.compile(loss = 'mean_absolute_error', optimizer = 'adam',\n",
    "                  metrics = ['mean_absolute_error'])\n",
    "regressor.fit(previsores, preco_real, batch_size = 300, epochs = 100)"
   ]
  },
  {
   "cell_type": "code",
   "execution_count": null,
   "metadata": {},
   "outputs": [],
   "source": [
    "previsoes = regressor.predict(previsores)"
   ]
  },
  {
   "cell_type": "code",
   "execution_count": null,
   "metadata": {},
   "outputs": [],
   "source": [
    "preco_real.mean()"
   ]
  },
  {
   "cell_type": "code",
   "execution_count": null,
   "metadata": {},
   "outputs": [],
   "source": [
    "previsoes.mean()"
   ]
  },
  {
   "cell_type": "code",
   "execution_count": null,
   "metadata": {},
   "outputs": [],
   "source": []
  }
 ],
 "metadata": {
  "kernelspec": {
   "display_name": "Python 3",
   "language": "python",
   "name": "python3"
  },
  "language_info": {
   "codemirror_mode": {
    "name": "ipython",
    "version": 3
   },
   "file_extension": ".py",
   "mimetype": "text/x-python",
   "name": "python",
   "nbconvert_exporter": "python",
   "pygments_lexer": "ipython3",
   "version": "3.7.3"
  }
 },
 "nbformat": 4,
 "nbformat_minor": 2
}
