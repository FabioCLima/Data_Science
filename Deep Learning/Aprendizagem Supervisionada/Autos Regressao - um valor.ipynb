{
 "cells": [
  {
   "cell_type": "code",
   "execution_count": 1,
   "metadata": {},
   "outputs": [
    {
     "name": "stderr",
     "output_type": "stream",
     "text": [
      "Using TensorFlow backend.\n"
     ]
    }
   ],
   "source": [
    "import pandas as pd\n",
    "from keras.models import Sequential\n",
    "from keras.layers import Dense\n",
    "\n",
    "from sklearn.preprocessing import LabelEncoder, OneHotEncoder"
   ]
  },
  {
   "cell_type": "code",
   "execution_count": 2,
   "metadata": {},
   "outputs": [],
   "source": [
    "base = pd.read_csv('../data/autos.csv', encoding = 'ISO-8859-1')"
   ]
  },
  {
   "cell_type": "markdown",
   "metadata": {},
   "source": [
    "# Pré Processamento"
   ]
  },
  {
   "cell_type": "code",
   "execution_count": 3,
   "metadata": {},
   "outputs": [],
   "source": [
    "base = base.drop('dateCrawled', axis = 1)\n",
    "base = base.drop('dateCreated', axis = 1)\n",
    "base = base.drop('nrOfPictures', axis = 1)\n",
    "base = base.drop('postalCode', axis = 1)\n",
    "base = base.drop('lastSeen', axis = 1)"
   ]
  },
  {
   "cell_type": "code",
   "execution_count": 4,
   "metadata": {},
   "outputs": [
    {
     "data": {
      "text/plain": [
       "Ford_Fiesta                                                      657\n",
       "BMW_318i                                                         627\n",
       "Opel_Corsa                                                       622\n",
       "Volkswagen_Golf_1.4                                              603\n",
       "BMW_316i                                                         523\n",
       "BMW_320i                                                         492\n",
       "Volkswagen_Polo                                                  475\n",
       "Renault_Twingo                                                   447\n",
       "Volkswagen_Golf                                                  428\n",
       "Volkswagen_Golf_1.6                                              413\n",
       "Volkswagen_Polo_1.2                                              412\n",
       "BMW_116i                                                         394\n",
       "Opel_Corsa_1.2_16V                                               373\n",
       "Opel_Corsa_B                                                     369\n",
       "Opel_Astra                                                       366\n",
       "Peugeot_206                                                      365\n",
       "Ford_Focus                                                       361\n",
       "Opel_Corsa_1.0_12V                                               344\n",
       "Renault_Twingo_1.2                                               322\n",
       "Volkswagen_Passat_Variant_1.9_TDI                                274\n",
       "Volkswagen_Golf_1.9_TDI                                          273\n",
       "Opel_Astra_1.6                                                   260\n",
       "Audi_A4_Avant_2.0_TDI_DPF                                        254\n",
       "MINI_Mini_Cooper                                                 245\n",
       "Ford_Ka                                                          242\n",
       "Fiat_Punto                                                       242\n",
       "Audi_A4_Avant_1.9_TDI                                            241\n",
       "Audi_A4_1.6                                                      238\n",
       "MINI_Mini_One                                                    233\n",
       "BMW_520i                                                         226\n",
       "                                                                ... \n",
       "VW_Touran_1.9TDI_Hingucker_Weiss                                   1\n",
       "OPOEL_CORSA!!!!                                                    1\n",
       "BMW_318d_DPF_Touring_Aut._mit_sehr_guter_Ausstattung               1\n",
       "Fist_stilo_1_4_16V                                                 1\n",
       "Corvette_C3_Stingray_Convertible_Cabrio_Breit                      1\n",
       "Polo1___Audi_50_Karosserie_Bergrennen_Zelle                        1\n",
       "Seat_arosa_1.4_tdi.schaltgetriebe                                  1\n",
       "Opel_Tigra_1_4L__90_PS__TÜV_07.2016                                1\n",
       "Mercedes_E_200_CDI_Diesel_Tuev_Neu_sehr_gepflegt_Rostfrei          1\n",
       "Renault_megan_1.6_einsteigen_losfahren_!                           1\n",
       "Berlingo_fuer_mitfahrenden_Rollstuhlfahrer                         1\n",
       "Audi_A6_DPF_Quattro_3_0__S_tronic__Dakotagrau_metallic__Leder      1\n",
       "1.9_dci_Turbolader_und_Kupplung_neu                                1\n",
       "Oldtimer_1928er_Mercedes_SSK_Cabriolet_Replikat                    1\n",
       "VW_PASSAT_2.0TDI_DPF_KOMBI_DSG_NAVI_KLIMA_SHZ                      1\n",
       "Golf_5_Tdi_2.0_DPF__Leder_Klima                                    1\n",
       "Mercedes_Benz_E_320_T_CDI_Avantgarde_*Vollleder*Navi*              1\n",
       "Bmw_e46_Compact_316_Ti_M_Paket_Alcantara_SHZ_Navi_TÜV_neu          1\n",
       "Seat_Leon_1.4_TSI_Style___Guter__Zustand                           1\n",
       "Opel_Astra_1.9_CDTI_Navigation__KlimaA.__e.Fenster...              1\n",
       "VW_Polo_6n2_Edition_2.Hand                                         1\n",
       "Peugeot_206_CC_110__kl._Maengel__faehrt_perfekt                    1\n",
       "VW_Lupo_50_ps                                                      1\n",
       "BMW_E39_528_i_Limousine_*M_Paket*__\"US_VERSION\"                    1\n",
       "BMW_E.36_Bj.96                                                     1\n",
       "Volkswagen_Variant_2_0TDI_Highline_Voll_Austattung_K.D._Ne         1\n",
       "Roadster_Pur__BMW_Z3__Kommende_Legende___mit_HARDTOP!              1\n",
       "VW_lupo/VW_Polo/Ford_Fiesta/_Opel_Corsa_C                          1\n",
       "Volkswagen_Caravelle_Lang__7_Si.__Autm.                            1\n",
       "*_gepflegter_Ford_Focus_Kombi_*                                    1\n",
       "Name: name, Length: 233531, dtype: int64"
      ]
     },
     "execution_count": 4,
     "metadata": {},
     "output_type": "execute_result"
    }
   ],
   "source": [
    "base['name'].value_counts()"
   ]
  },
  {
   "cell_type": "code",
   "execution_count": 5,
   "metadata": {},
   "outputs": [],
   "source": [
    "base = base.drop('name', axis = 1)"
   ]
  },
  {
   "cell_type": "code",
   "execution_count": 6,
   "metadata": {},
   "outputs": [
    {
     "data": {
      "text/plain": [
       "privat        371525\n",
       "gewerblich         3\n",
       "Name: seller, dtype: int64"
      ]
     },
     "execution_count": 6,
     "metadata": {},
     "output_type": "execute_result"
    }
   ],
   "source": [
    "base['seller'].value_counts()"
   ]
  },
  {
   "cell_type": "code",
   "execution_count": 7,
   "metadata": {},
   "outputs": [],
   "source": [
    "base = base.drop('seller', axis = 1)"
   ]
  },
  {
   "cell_type": "code",
   "execution_count": 8,
   "metadata": {},
   "outputs": [
    {
     "data": {
      "text/plain": [
       "Angebot    371516\n",
       "Gesuch         12\n",
       "Name: offerType, dtype: int64"
      ]
     },
     "execution_count": 8,
     "metadata": {},
     "output_type": "execute_result"
    }
   ],
   "source": [
    "base['offerType'].value_counts()"
   ]
  },
  {
   "cell_type": "code",
   "execution_count": 9,
   "metadata": {},
   "outputs": [],
   "source": [
    "base = base.drop('offerType', axis = 1)"
   ]
  },
  {
   "cell_type": "markdown",
   "metadata": {},
   "source": [
    "# Variáveis inconsistentes"
   ]
  },
  {
   "cell_type": "code",
   "execution_count": 10,
   "metadata": {},
   "outputs": [],
   "source": [
    "#preços abaixo de 10 reais\n",
    "i1 = base.loc[base.price <= 10]\n",
    "base.price.mean()\n",
    "base = base[base.price > 10]"
   ]
  },
  {
   "cell_type": "code",
   "execution_count": 11,
   "metadata": {},
   "outputs": [],
   "source": [
    "#preços inconsistentes, geralmente será 999.999 ou 11.111.111\n",
    "i2 = base.loc[base.price > 350000]\n",
    "base = base.loc[base.price < 350000]"
   ]
  },
  {
   "cell_type": "code",
   "execution_count": 12,
   "metadata": {},
   "outputs": [
    {
     "data": {
      "text/plain": [
       "limousine     93614\n",
       "kleinwagen    78014\n",
       "kombi         65921\n",
       "bus           29699\n",
       "cabrio        22509\n",
       "coupe         18386\n",
       "suv           14477\n",
       "andere         3125\n",
       "Name: vehicleType, dtype: int64"
      ]
     },
     "execution_count": 12,
     "metadata": {},
     "output_type": "execute_result"
    }
   ],
   "source": [
    "base.loc[pd.isnull(base['vehicleType'])]\n",
    "base['vehicleType'].value_counts() # limousine"
   ]
  },
  {
   "cell_type": "code",
   "execution_count": 13,
   "metadata": {},
   "outputs": [
    {
     "data": {
      "text/plain": [
       "manuell      266547\n",
       "automatik     75508\n",
       "Name: gearbox, dtype: int64"
      ]
     },
     "execution_count": 13,
     "metadata": {},
     "output_type": "execute_result"
    }
   ],
   "source": [
    "base.loc[pd.isnull(base['gearbox'])]\n",
    "base['gearbox'].value_counts() # manuell"
   ]
  },
  {
   "cell_type": "code",
   "execution_count": 14,
   "metadata": {},
   "outputs": [
    {
     "data": {
      "text/plain": [
       "golf                  28989\n",
       "andere                25560\n",
       "3er                   19905\n",
       "polo                  12604\n",
       "corsa                 12149\n",
       "astra                 10458\n",
       "a4                     9972\n",
       "passat                 9966\n",
       "c_klasse               8624\n",
       "5er                    8304\n",
       "e_klasse               7379\n",
       "a3                     6498\n",
       "a6                     5832\n",
       "focus                  5805\n",
       "fiesta                 5645\n",
       "transporter            5371\n",
       "twingo                 4804\n",
       "2_reihe                4753\n",
       "fortwo                 4286\n",
       "a_klasse               4241\n",
       "vectra                 4072\n",
       "1er                    3818\n",
       "mondeo                 3503\n",
       "touran                 3492\n",
       "clio                   3456\n",
       "3_reihe                3427\n",
       "punto                  3238\n",
       "zafira                 2983\n",
       "megane                 2809\n",
       "ibiza                  2634\n",
       "                      ...  \n",
       "mii                      81\n",
       "crossfire                66\n",
       "range_rover_evoque       65\n",
       "gl                       63\n",
       "nubira                   61\n",
       "move                     51\n",
       "lybra                    50\n",
       "v60                      48\n",
       "croma                    45\n",
       "145                      45\n",
       "delta                    39\n",
       "amarok                   39\n",
       "lodgy                    35\n",
       "terios                   35\n",
       "9000                     28\n",
       "charade                  27\n",
       "b_max                    26\n",
       "musa                     23\n",
       "materia                  18\n",
       "200                      17\n",
       "kappa                    15\n",
       "samara                   12\n",
       "elefantino               11\n",
       "i3                       10\n",
       "kalina                    9\n",
       "serie_2                   8\n",
       "rangerover                6\n",
       "serie_3                   3\n",
       "discovery_sport           1\n",
       "serie_1                   1\n",
       "Name: model, Length: 251, dtype: int64"
      ]
     },
     "execution_count": 14,
     "metadata": {},
     "output_type": "execute_result"
    }
   ],
   "source": [
    "base.loc[pd.isnull(base['model'])]\n",
    "base['model'].value_counts() # golf"
   ]
  },
  {
   "cell_type": "code",
   "execution_count": 15,
   "metadata": {},
   "outputs": [
    {
     "data": {
      "text/plain": [
       "benzin     217582\n",
       "diesel     106002\n",
       "lpg          5222\n",
       "cng           557\n",
       "hybrid        271\n",
       "andere        165\n",
       "elektro       101\n",
       "Name: fuelType, dtype: int64"
      ]
     },
     "execution_count": 15,
     "metadata": {},
     "output_type": "execute_result"
    }
   ],
   "source": [
    "base.loc[pd.isnull(base['fuelType'])]\n",
    "base['fuelType'].value_counts() # benzin"
   ]
  },
  {
   "cell_type": "code",
   "execution_count": 16,
   "metadata": {},
   "outputs": [
    {
     "data": {
      "text/plain": [
       "nein    259301\n",
       "ja       34004\n",
       "Name: notRepairedDamage, dtype: int64"
      ]
     },
     "execution_count": 16,
     "metadata": {},
     "output_type": "execute_result"
    }
   ],
   "source": [
    "base.loc[pd.isnull(base['notRepairedDamage'])]\n",
    "base['notRepairedDamage'].value_counts() # nein"
   ]
  },
  {
   "cell_type": "code",
   "execution_count": 17,
   "metadata": {},
   "outputs": [],
   "source": [
    "valores = {'vehicleType': 'limousine', 'gearbox': 'manuell',\n",
    "           'model': 'golf', 'fuelType': 'benzin',\n",
    "           'notRepairedDamage': 'nein'}\n",
    "base = base.fillna(value = valores)"
   ]
  },
  {
   "cell_type": "code",
   "execution_count": 18,
   "metadata": {},
   "outputs": [],
   "source": [
    "previsores = base.iloc[:, 1:13].values\n",
    "preco_real = base.iloc[:, 0].values"
   ]
  },
  {
   "cell_type": "code",
   "execution_count": 19,
   "metadata": {},
   "outputs": [],
   "source": [
    "labelencoder_previsores = LabelEncoder()\n",
    "previsores[:, 0] = labelencoder_previsores.fit_transform(previsores[:, 0])\n",
    "previsores[:, 1] = labelencoder_previsores.fit_transform(previsores[:, 1])\n",
    "previsores[:, 3] = labelencoder_previsores.fit_transform(previsores[:, 3])\n",
    "previsores[:, 5] = labelencoder_previsores.fit_transform(previsores[:, 5])\n",
    "previsores[:, 8] = labelencoder_previsores.fit_transform(previsores[:, 8])\n",
    "previsores[:, 9] = labelencoder_previsores.fit_transform(previsores[:, 9])\n",
    "previsores[:, 10] = labelencoder_previsores.fit_transform(previsores[:, 10])"
   ]
  },
  {
   "cell_type": "code",
   "execution_count": 20,
   "metadata": {},
   "outputs": [
    {
     "name": "stderr",
     "output_type": "stream",
     "text": [
      "/home/eduardo/anaconda3/lib/python3.7/site-packages/sklearn/preprocessing/_encoders.py:414: FutureWarning: The handling of integer data will change in version 0.22. Currently, the categories are determined based on the range [0, max(values)], while in the future they will be determined based on the unique values.\n",
      "If you want the future behaviour and silence this warning, you can specify \"categories='auto'\".\n",
      "In case you used a LabelEncoder before this OneHotEncoder to convert the categories to integers, then you can now use the OneHotEncoder directly.\n",
      "  warnings.warn(msg, FutureWarning)\n",
      "/home/eduardo/anaconda3/lib/python3.7/site-packages/sklearn/preprocessing/_encoders.py:450: DeprecationWarning: The 'categorical_features' keyword is deprecated in version 0.20 and will be removed in 0.22. You can use the ColumnTransformer instead.\n",
      "  \"use the ColumnTransformer instead.\", DeprecationWarning)\n"
     ]
    }
   ],
   "source": [
    "onehotencoder = OneHotEncoder(categorical_features = [0,1,3,5,8,9,10])\n",
    "previsores = onehotencoder.fit_transform(previsores).toarray()"
   ]
  },
  {
   "cell_type": "code",
   "execution_count": 21,
   "metadata": {},
   "outputs": [
    {
     "name": "stdout",
     "output_type": "stream",
     "text": [
      "Epoch 1/100\n",
      "359291/359291 [==============================] - 7s 19us/step - loss: 3857.6331 - mean_absolute_error: 3857.6309\n",
      "Epoch 2/100\n",
      "359291/359291 [==============================] - 6s 16us/step - loss: 3346.9500 - mean_absolute_error: 3346.9485\n",
      "Epoch 3/100\n",
      "359291/359291 [==============================] - 6s 16us/step - loss: 2986.8531 - mean_absolute_error: 2986.8518\n",
      "Epoch 4/100\n",
      "359291/359291 [==============================] - 6s 16us/step - loss: 2835.7798 - mean_absolute_error: 2835.7771\n",
      "Epoch 5/100\n",
      "359291/359291 [==============================] - 6s 16us/step - loss: 2769.0656 - mean_absolute_error: 2769.0649\n",
      "Epoch 6/100\n",
      "359291/359291 [==============================] - 6s 16us/step - loss: 2728.8469 - mean_absolute_error: 2728.8464\n",
      "Epoch 7/100\n",
      "359291/359291 [==============================] - 6s 15us/step - loss: 2690.5422 - mean_absolute_error: 2690.5410\n",
      "Epoch 8/100\n",
      "359291/359291 [==============================] - 6s 16us/step - loss: 2636.9444 - mean_absolute_error: 2636.9424\n",
      "Epoch 9/100\n",
      "359291/359291 [==============================] - 6s 16us/step - loss: 2602.4412 - mean_absolute_error: 2602.4412\n",
      "Epoch 10/100\n",
      "359291/359291 [==============================] - 6s 18us/step - loss: 2561.3997 - mean_absolute_error: 2561.3989\n",
      "Epoch 11/100\n",
      "359291/359291 [==============================] - 7s 20us/step - loss: 2535.8826 - mean_absolute_error: 2535.8818\n",
      "Epoch 12/100\n",
      "359291/359291 [==============================] - 7s 19us/step - loss: 2498.3465 - mean_absolute_error: 2498.3442\n",
      "Epoch 13/100\n",
      "359291/359291 [==============================] - 7s 19us/step - loss: 2483.1332 - mean_absolute_error: 2483.1328\n",
      "Epoch 14/100\n",
      "359291/359291 [==============================] - 6s 17us/step - loss: 2453.8242 - mean_absolute_error: 2453.8242\n",
      "Epoch 15/100\n",
      "359291/359291 [==============================] - 6s 17us/step - loss: 2470.6914 - mean_absolute_error: 2470.6914\n",
      "Epoch 16/100\n",
      "359291/359291 [==============================] - 6s 18us/step - loss: 2446.6948 - mean_absolute_error: 2446.6938\n",
      "Epoch 17/100\n",
      "359291/359291 [==============================] - 6s 17us/step - loss: 2454.0785 - mean_absolute_error: 2454.0786\n",
      "Epoch 18/100\n",
      "359291/359291 [==============================] - 6s 17us/step - loss: 2421.3092 - mean_absolute_error: 2421.3074\n",
      "Epoch 19/100\n",
      "359291/359291 [==============================] - 6s 17us/step - loss: 2428.9531 - mean_absolute_error: 2428.9521\n",
      "Epoch 20/100\n",
      "359291/359291 [==============================] - 6s 17us/step - loss: 2413.4354 - mean_absolute_error: 2413.4377\n",
      "Epoch 21/100\n",
      "359291/359291 [==============================] - 6s 17us/step - loss: 2415.2478 - mean_absolute_error: 2415.2490\n",
      "Epoch 22/100\n",
      "359291/359291 [==============================] - 6s 17us/step - loss: 2396.7051 - mean_absolute_error: 2396.7029\n",
      "Epoch 23/100\n",
      "359291/359291 [==============================] - 6s 17us/step - loss: 2385.2376 - mean_absolute_error: 2385.2371\n",
      "Epoch 24/100\n",
      "359291/359291 [==============================] - 6s 17us/step - loss: 2413.3775 - mean_absolute_error: 2413.3772\n",
      "Epoch 25/100\n",
      "359291/359291 [==============================] - 6s 17us/step - loss: 2389.4242 - mean_absolute_error: 2389.4211\n",
      "Epoch 26/100\n",
      "359291/359291 [==============================] - 6s 17us/step - loss: 2385.4439 - mean_absolute_error: 2385.4453\n",
      "Epoch 27/100\n",
      "359291/359291 [==============================] - 6s 17us/step - loss: 2380.3109 - mean_absolute_error: 2380.3105\n",
      "Epoch 28/100\n",
      "359291/359291 [==============================] - 6s 17us/step - loss: 2367.1560 - mean_absolute_error: 2367.1558\n",
      "Epoch 29/100\n",
      "359291/359291 [==============================] - 6s 17us/step - loss: 2368.0659 - mean_absolute_error: 2368.0652\n",
      "Epoch 30/100\n",
      "359291/359291 [==============================] - 6s 17us/step - loss: 2375.5171 - mean_absolute_error: 2375.5171\n",
      "Epoch 31/100\n",
      "359291/359291 [==============================] - 6s 17us/step - loss: 2366.5135 - mean_absolute_error: 2366.5146\n",
      "Epoch 32/100\n",
      "359291/359291 [==============================] - 6s 17us/step - loss: 2351.7646 - mean_absolute_error: 2351.7649\n",
      "Epoch 33/100\n",
      "359291/359291 [==============================] - 6s 18us/step - loss: 2350.8649 - mean_absolute_error: 2350.8628\n",
      "Epoch 34/100\n",
      "359291/359291 [==============================] - 6s 17us/step - loss: 2355.0272 - mean_absolute_error: 2355.0266\n",
      "Epoch 35/100\n",
      "359291/359291 [==============================] - 6s 17us/step - loss: 2356.2842 - mean_absolute_error: 2356.2834\n",
      "Epoch 36/100\n",
      "359291/359291 [==============================] - 6s 17us/step - loss: 2338.2627 - mean_absolute_error: 2338.2612\n",
      "Epoch 37/100\n",
      "359291/359291 [==============================] - 6s 17us/step - loss: 2336.5324 - mean_absolute_error: 2336.5325\n",
      "Epoch 38/100\n",
      "359291/359291 [==============================] - 6s 17us/step - loss: 2337.1287 - mean_absolute_error: 2337.1294\n",
      "Epoch 39/100\n",
      "359291/359291 [==============================] - 6s 17us/step - loss: 2337.6475 - mean_absolute_error: 2337.6477\n",
      "Epoch 40/100\n",
      "359291/359291 [==============================] - 6s 17us/step - loss: 2332.7668 - mean_absolute_error: 2332.7664\n",
      "Epoch 41/100\n",
      "359291/359291 [==============================] - 6s 17us/step - loss: 2326.6595 - mean_absolute_error: 2326.6594\n",
      "Epoch 42/100\n",
      "359291/359291 [==============================] - 6s 17us/step - loss: 2338.6734 - mean_absolute_error: 2338.6750\n",
      "Epoch 43/100\n",
      "359291/359291 [==============================] - 6s 17us/step - loss: 2326.6636 - mean_absolute_error: 2326.6641\n",
      "Epoch 44/100\n",
      "359291/359291 [==============================] - 6s 17us/step - loss: 2329.4049 - mean_absolute_error: 2329.4060\n",
      "Epoch 45/100\n",
      "359291/359291 [==============================] - 6s 17us/step - loss: 2313.4732 - mean_absolute_error: 2313.4736\n",
      "Epoch 46/100\n",
      "359291/359291 [==============================] - 6s 17us/step - loss: 2319.4304 - mean_absolute_error: 2319.4287\n",
      "Epoch 47/100\n",
      "359291/359291 [==============================] - 6s 17us/step - loss: 2322.4820 - mean_absolute_error: 2322.4829\n",
      "Epoch 48/100\n",
      "359291/359291 [==============================] - 6s 17us/step - loss: 2314.6207 - mean_absolute_error: 2314.6204\n",
      "Epoch 49/100\n",
      "359291/359291 [==============================] - 6s 17us/step - loss: 2324.2475 - mean_absolute_error: 2324.2480\n",
      "Epoch 50/100\n",
      "359291/359291 [==============================] - 6s 17us/step - loss: 2317.1123 - mean_absolute_error: 2317.1150\n",
      "Epoch 51/100\n",
      "359291/359291 [==============================] - 6s 17us/step - loss: 2310.7638 - mean_absolute_error: 2310.7627\n",
      "Epoch 52/100\n",
      "359291/359291 [==============================] - 6s 17us/step - loss: 2307.0968 - mean_absolute_error: 2307.0979\n",
      "Epoch 53/100\n",
      "359291/359291 [==============================] - 6s 17us/step - loss: 2313.6209 - mean_absolute_error: 2313.6218\n",
      "Epoch 54/100\n",
      "359291/359291 [==============================] - 6s 17us/step - loss: 2307.6216 - mean_absolute_error: 2307.6208\n",
      "Epoch 55/100\n",
      "359291/359291 [==============================] - 6s 18us/step - loss: 2297.1624 - mean_absolute_error: 2297.1633\n",
      "Epoch 56/100\n",
      "359291/359291 [==============================] - 6s 18us/step - loss: 2298.2881 - mean_absolute_error: 2298.2886\n",
      "Epoch 57/100\n",
      "359291/359291 [==============================] - 6s 18us/step - loss: 2301.3892 - mean_absolute_error: 2301.3879\n",
      "Epoch 58/100\n",
      "359291/359291 [==============================] - 6s 18us/step - loss: 2291.8440 - mean_absolute_error: 2291.8440\n",
      "Epoch 59/100\n",
      "359291/359291 [==============================] - 6s 18us/step - loss: 2294.1411 - mean_absolute_error: 2294.1406\n",
      "Epoch 60/100\n",
      "359291/359291 [==============================] - 6s 18us/step - loss: 2297.9879 - mean_absolute_error: 2297.9905\n",
      "Epoch 61/100\n",
      "359291/359291 [==============================] - 6s 18us/step - loss: 2283.5996 - mean_absolute_error: 2283.5974\n",
      "Epoch 62/100\n",
      "359291/359291 [==============================] - 6s 18us/step - loss: 2295.4791 - mean_absolute_error: 2295.4805\n",
      "Epoch 63/100\n",
      "359291/359291 [==============================] - 6s 18us/step - loss: 2285.1471 - mean_absolute_error: 2285.1462\n",
      "Epoch 64/100\n",
      "359291/359291 [==============================] - 6s 18us/step - loss: 2293.5660 - mean_absolute_error: 2293.5669\n",
      "Epoch 65/100\n",
      "359291/359291 [==============================] - 6s 18us/step - loss: 2280.6559 - mean_absolute_error: 2280.6562\n",
      "Epoch 66/100\n"
     ]
    },
    {
     "name": "stdout",
     "output_type": "stream",
     "text": [
      "359291/359291 [==============================] - 6s 17us/step - loss: 2295.7668 - mean_absolute_error: 2295.7661\n",
      "Epoch 67/100\n",
      "359291/359291 [==============================] - 6s 17us/step - loss: 2287.1451 - mean_absolute_error: 2287.1438\n",
      "Epoch 68/100\n",
      "359291/359291 [==============================] - 6s 16us/step - loss: 2297.6439 - mean_absolute_error: 2297.6440\n",
      "Epoch 69/100\n",
      "359291/359291 [==============================] - 6s 16us/step - loss: 2284.1415 - mean_absolute_error: 2284.1414\n",
      "Epoch 70/100\n",
      "359291/359291 [==============================] - 6s 16us/step - loss: 2273.5833 - mean_absolute_error: 2273.5818\n",
      "Epoch 71/100\n",
      "359291/359291 [==============================] - 6s 16us/step - loss: 2279.0684 - mean_absolute_error: 2279.0681\n",
      "Epoch 72/100\n",
      "359291/359291 [==============================] - 6s 16us/step - loss: 2287.2604 - mean_absolute_error: 2287.2593\n",
      "Epoch 73/100\n",
      "359291/359291 [==============================] - 6s 16us/step - loss: 2267.2667 - mean_absolute_error: 2267.2649\n",
      "Epoch 74/100\n",
      "359291/359291 [==============================] - 6s 16us/step - loss: 2276.4394 - mean_absolute_error: 2276.4375\n",
      "Epoch 75/100\n",
      "359291/359291 [==============================] - 6s 16us/step - loss: 2273.2706 - mean_absolute_error: 2273.2695\n",
      "Epoch 76/100\n",
      "359291/359291 [==============================] - 6s 16us/step - loss: 2271.2176 - mean_absolute_error: 2271.2173\n",
      "Epoch 77/100\n",
      "359291/359291 [==============================] - 6s 16us/step - loss: 2257.5545 - mean_absolute_error: 2257.5554\n",
      "Epoch 78/100\n",
      "359291/359291 [==============================] - 6s 16us/step - loss: 2281.7066 - mean_absolute_error: 2281.7085\n",
      "Epoch 79/100\n",
      "359291/359291 [==============================] - 6s 16us/step - loss: 2275.5552 - mean_absolute_error: 2275.5544\n",
      "Epoch 80/100\n",
      "359291/359291 [==============================] - 6s 16us/step - loss: 2250.4147 - mean_absolute_error: 2250.4138\n",
      "Epoch 81/100\n",
      "359291/359291 [==============================] - 6s 16us/step - loss: 2272.2513 - mean_absolute_error: 2272.2542\n",
      "Epoch 82/100\n",
      "359291/359291 [==============================] - 6s 16us/step - loss: 2265.9795 - mean_absolute_error: 2265.9805\n",
      "Epoch 83/100\n",
      "359291/359291 [==============================] - 6s 16us/step - loss: 2264.9624 - mean_absolute_error: 2264.9597\n",
      "Epoch 84/100\n",
      "359291/359291 [==============================] - 6s 16us/step - loss: 2266.1724 - mean_absolute_error: 2266.1724\n",
      "Epoch 85/100\n",
      "359291/359291 [==============================] - 6s 16us/step - loss: 2263.1935 - mean_absolute_error: 2263.1931\n",
      "Epoch 86/100\n",
      "359291/359291 [==============================] - 6s 16us/step - loss: 2257.5655 - mean_absolute_error: 2257.5649\n",
      "Epoch 87/100\n",
      "359291/359291 [==============================] - 6s 16us/step - loss: 2261.2586 - mean_absolute_error: 2261.2600\n",
      "Epoch 88/100\n",
      "359291/359291 [==============================] - 6s 16us/step - loss: 2255.8368 - mean_absolute_error: 2255.8364\n",
      "Epoch 89/100\n",
      "359291/359291 [==============================] - 6s 16us/step - loss: 2257.2574 - mean_absolute_error: 2257.2556\n",
      "Epoch 90/100\n",
      "359291/359291 [==============================] - 6s 16us/step - loss: 2261.6530 - mean_absolute_error: 2261.6504\n",
      "Epoch 91/100\n",
      "359291/359291 [==============================] - 6s 16us/step - loss: 2253.8011 - mean_absolute_error: 2253.8000\n",
      "Epoch 92/100\n",
      "359291/359291 [==============================] - 6s 16us/step - loss: 2258.4519 - mean_absolute_error: 2258.4536\n",
      "Epoch 93/100\n",
      "359291/359291 [==============================] - 6s 16us/step - loss: 2257.5371 - mean_absolute_error: 2257.5369\n",
      "Epoch 94/100\n",
      "359291/359291 [==============================] - 6s 16us/step - loss: 2239.7803 - mean_absolute_error: 2239.7803\n",
      "Epoch 95/100\n",
      "359291/359291 [==============================] - 6s 16us/step - loss: 2250.9635 - mean_absolute_error: 2250.9631\n",
      "Epoch 96/100\n",
      "359291/359291 [==============================] - 6s 16us/step - loss: 2249.0377 - mean_absolute_error: 2249.0378\n",
      "Epoch 97/100\n",
      "359291/359291 [==============================] - 6s 15us/step - loss: 2249.6296 - mean_absolute_error: 2249.6299\n",
      "Epoch 98/100\n",
      "359291/359291 [==============================] - 6s 16us/step - loss: 2252.1074 - mean_absolute_error: 2252.1077\n",
      "Epoch 99/100\n",
      "359291/359291 [==============================] - 6s 16us/step - loss: 2250.3446 - mean_absolute_error: 2250.3459\n",
      "Epoch 100/100\n",
      "359291/359291 [==============================] - 6s 16us/step - loss: 2243.3570 - mean_absolute_error: 2243.3577\n"
     ]
    },
    {
     "data": {
      "text/plain": [
       "<keras.callbacks.callbacks.History at 0x7f6ee5834b00>"
      ]
     },
     "execution_count": 21,
     "metadata": {},
     "output_type": "execute_result"
    }
   ],
   "source": [
    "regressor = Sequential()\n",
    "regressor.add(Dense(units = 158, activation = 'relu', input_dim = 316))\n",
    "regressor.add(Dense(units = 158, activation = 'relu'))\n",
    "regressor.add(Dense(units = 1, activation = 'linear'))\n",
    "regressor.compile(loss = 'mean_absolute_error', optimizer = 'adam',\n",
    "                  metrics = ['mean_absolute_error'])\n",
    "regressor.fit(previsores, preco_real, batch_size = 300, epochs = 100)"
   ]
  },
  {
   "cell_type": "code",
   "execution_count": 25,
   "metadata": {},
   "outputs": [],
   "source": [
    "previsoes = regressor.predict(previsores)"
   ]
  },
  {
   "cell_type": "code",
   "execution_count": 23,
   "metadata": {},
   "outputs": [
    {
     "data": {
      "text/plain": [
       "5916.833945186492"
      ]
     },
     "execution_count": 23,
     "metadata": {},
     "output_type": "execute_result"
    }
   ],
   "source": [
    "preco_real.mean()"
   ]
  },
  {
   "cell_type": "code",
   "execution_count": 24,
   "metadata": {},
   "outputs": [
    {
     "data": {
      "text/plain": [
       "5456.2896"
      ]
     },
     "execution_count": 24,
     "metadata": {},
     "output_type": "execute_result"
    }
   ],
   "source": [
    "previsoes.mean()"
   ]
  },
  {
   "cell_type": "code",
   "execution_count": null,
   "metadata": {},
   "outputs": [],
   "source": []
  }
 ],
 "metadata": {
  "kernelspec": {
   "display_name": "Python 3",
   "language": "python",
   "name": "python3"
  },
  "language_info": {
   "codemirror_mode": {
    "name": "ipython",
    "version": 3
   },
   "file_extension": ".py",
   "mimetype": "text/x-python",
   "name": "python",
   "nbconvert_exporter": "python",
   "pygments_lexer": "ipython3",
   "version": "3.7.3"
  }
 },
 "nbformat": 4,
 "nbformat_minor": 2
}
